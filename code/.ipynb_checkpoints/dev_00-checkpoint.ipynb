{
 "cells": [
  {
   "cell_type": "code",
   "execution_count": 50,
   "id": "1796c835-d374-4dc3-a1b6-ac0603285ed3",
   "metadata": {},
   "outputs": [],
   "source": [
    "import os\n",
    "import pandas as pd\n",
    "import numpy as np\n",
    "import pycaret.classification as pc\n",
    "\n",
    "import matplotlib.pyplot as plt\n",
    "\n",
    "import mlflow\n",
    "from mlflow.models.signature import infer_signature\n",
    "from mlflow.tracking import MlflowClient\n",
    "\n",
    "os.environ[\"GIT_PYTHON_REFRESH\"] = \"quiet\""
   ]
  },
  {
   "cell_type": "code",
   "execution_count": 51,
   "id": "42efef7a-a944-4e11-939d-ff3ff5eeb05f",
   "metadata": {},
   "outputs": [],
   "source": [
    "#Configuração MLFLOW\n",
    "# Para usar o sqlite como repositorio\n",
    "mlflow.set_tracking_uri(\"sqlite:///mlruns.db\")\n",
    "\n",
    "experiment_name = 'Projeto Kobe'\n",
    "experiment = mlflow.get_experiment_by_name(experiment_name)\n",
    "if experiment is None:\n",
    "    experiment_id = mlflow.create_experiment(experiment_name)\n",
    "    experiment = mlflow.get_experiment(experiment_id)\n",
    "experiment_id = experiment.experiment_id"
   ]
  },
  {
   "cell_type": "code",
   "execution_count": 52,
   "id": "15b8c705-7fa2-420f-9aca-456938004e84",
   "metadata": {},
   "outputs": [],
   "source": [
    "from sklearn.model_selection import train_test_split\n",
    "\n",
    "\n",
    "data_cols = ['lat','lon', 'minutes_remaining','period', 'playoffs','shot_distance','shot_made_flag']\n",
    "train_perc = 0.8\n",
    "\n",
    "\n",
    "with mlflow.start_run(experiment_id=experiment_id, run_name = 'PreparacaoDados'):\n",
    "    \n",
    "    df_dev = pd.read_parquet(\"D:\\\\repositorios\\\\kobe-dataset\\\\data\\\\raw\\\\dataset_kobe_dev.parquet\")\n",
    "    df_dev = df_dev[data_cols].copy()\n",
    "    df_dev.dropna(inplace=True)\n",
    "    \n",
    "    df_dev.to_parquet(\"D:\\\\repositorios\\\\kobe-dataset\\\\data\\\\processed\\\\data_filtered.parquet\")\n",
    "    \n",
    "    xtrain, xtest, ytrain, ytest = train_test_split(df_dev[['lat','lon', 'minutes_remaining','period', 'playoffs','shot_distance']],\n",
    "                                                    df_dev['shot_made_flag'],                                                \n",
    "                                                    train_size=train_perc,\n",
    "                                                    stratify=df_dev['shot_made_flag'])    \n",
    "    xtrain['shot_distance'] = ytrain\n",
    "    xtest['shot_distance'] = ytest\n",
    "    xtrain.to_parquet('D:\\\\repositorios\\\\kobe-dataset\\\\data\\\\processed\\\\base_train.parquet')\n",
    "    xtest.to_parquet('D:\\\\repositorios\\\\kobe-dataset\\\\data\\\\processed\\\\base_test.parquet')\n",
    "\n",
    "    mlflow.log_params({\n",
    "        'perc-teste': 1-train_perc,\n",
    "        'colunas-selecionadas': data_cols\n",
    "    })\n",
    "    mlflow.log_metrics({\n",
    "        'qtd_linhas_treino': xtrain.shape[0],\n",
    "        'qtd_linhas_teste': xtest.shape[0],\n",
    "    })"
   ]
  },
  {
   "cell_type": "code",
   "execution_count": 53,
   "id": "7b892dfd-e311-411d-a46d-228f8210f96f",
   "metadata": {},
   "outputs": [],
   "source": [
    "#Treinando o modelo\n",
    "from sklearn.model_selection import validation_curve\n",
    "\n",
    "\n",
    "def plot_parameter_validation_curve(X, Y, param_name, grid_search,\n",
    "                                    model, model_name, scoring,\n",
    "                                    logx):\n",
    "    print('Parameter:', param_name)\n",
    "    print('GridSearch:', grid_search[param_name])\n",
    "    print('Scoring:', scoring)\n",
    "    plt.figure(figsize=(6,4))\n",
    "    train_scores, test_scores = validation_curve(model,\n",
    "                                                 X = X, \n",
    "                                                 y = Y, \n",
    "                                                 param_name=param_name, \n",
    "                                                 param_range= grid_search[param_name],\n",
    "                                                 scoring=scoring,\n",
    "                                                 cv=10,\n",
    "                                                 n_jobs=-1)\n",
    "    train_scores_mean = np.mean(train_scores, axis=1)\n",
    "    train_scores_std = np.std(train_scores, axis=1)\n",
    "    test_scores_mean = np.mean(test_scores, axis=1)\n",
    "    test_scores_std = np.std(test_scores, axis=1)\n",
    "    plt.title(\"Curva Validação Modelo \" + model_name)\n",
    "    plt.xlabel(param_name)\n",
    "    plt.ylabel(\"Score (\"+scoring+\")\")\n",
    "    if logx:\n",
    "        plt.semilogx(grid_search[param_name], train_scores_mean,'-o', label=\"Treino\",\n",
    "                     color=\"darkorange\", lw=2)\n",
    "        plt.semilogx(grid_search[param_name], test_scores_mean,'-o', label=\"Validação-Cruzada\",\n",
    "                     color=\"navy\", lw=2)\n",
    "    else:\n",
    "        plt.plot(grid_search[param_name], train_scores_mean,'-o', label=\"Treino\",\n",
    "                     color=\"darkorange\", lw=2)\n",
    "        plt.plot(grid_search[param_name], test_scores_mean,'-o', label=\"Validação-Cruzada\",\n",
    "                 color=\"navy\", lw=2)\n",
    "    plt.fill_between(grid_search[param_name], train_scores_mean - train_scores_std,\n",
    "                     train_scores_mean + train_scores_std, alpha=0.2,\n",
    "                     color=\"darkorange\", lw=2)\n",
    "    plt.fill_between(grid_search[param_name], test_scores_mean - test_scores_std,\n",
    "                     test_scores_mean + test_scores_std, alpha=0.2,\n",
    "                     color=\"navy\", lw=2)\n",
    "    plt.legend(loc='best')\n",
    "    plt.grid(True)\n",
    "    plt.show()"
   ]
  },
  {
   "cell_type": "code",
   "execution_count": 54,
   "id": "e47a39ee-6c22-4281-b6c5-7af8b85b5787",
   "metadata": {},
   "outputs": [],
   "source": [
    "mlflow.end_run()"
   ]
  },
  {
   "cell_type": "code",
   "execution_count": 56,
   "id": "e680c0ad-5d77-4456-bbeb-1b358c233b49",
   "metadata": {},
   "outputs": [
    {
     "data": {
      "text/html": [
       "<style type=\"text/css\">\n",
       "#T_580fb_row9_col1, #T_580fb_row13_col1 {\n",
       "  background-color: lightgreen;\n",
       "}\n",
       "</style>\n",
       "<table id=\"T_580fb\">\n",
       "  <thead>\n",
       "    <tr>\n",
       "      <th class=\"blank level0\" >&nbsp;</th>\n",
       "      <th id=\"T_580fb_level0_col0\" class=\"col_heading level0 col0\" >Description</th>\n",
       "      <th id=\"T_580fb_level0_col1\" class=\"col_heading level0 col1\" >Value</th>\n",
       "    </tr>\n",
       "  </thead>\n",
       "  <tbody>\n",
       "    <tr>\n",
       "      <th id=\"T_580fb_level0_row0\" class=\"row_heading level0 row0\" >0</th>\n",
       "      <td id=\"T_580fb_row0_col0\" class=\"data row0 col0\" >Session id</td>\n",
       "      <td id=\"T_580fb_row0_col1\" class=\"data row0 col1\" >7627</td>\n",
       "    </tr>\n",
       "    <tr>\n",
       "      <th id=\"T_580fb_level0_row1\" class=\"row_heading level0 row1\" >1</th>\n",
       "      <td id=\"T_580fb_row1_col0\" class=\"data row1 col0\" >Target</td>\n",
       "      <td id=\"T_580fb_row1_col1\" class=\"data row1 col1\" >shot_distance</td>\n",
       "    </tr>\n",
       "    <tr>\n",
       "      <th id=\"T_580fb_level0_row2\" class=\"row_heading level0 row2\" >2</th>\n",
       "      <td id=\"T_580fb_row2_col0\" class=\"data row2 col0\" >Target type</td>\n",
       "      <td id=\"T_580fb_row2_col1\" class=\"data row2 col1\" >Multiclass</td>\n",
       "    </tr>\n",
       "    <tr>\n",
       "      <th id=\"T_580fb_level0_row3\" class=\"row_heading level0 row3\" >3</th>\n",
       "      <td id=\"T_580fb_row3_col0\" class=\"data row3 col0\" >Target mapping</td>\n",
       "      <td id=\"T_580fb_row3_col1\" class=\"data row3 col1\" >0: 0, 1: 1, 2: 2, 3: 3, 4: 4, 5: 5, 6: 6, 7: 7, 8: 8, 9: 9, 10: 10, 11: 11, 12: 12, 13: 13, 14: 14, 15: 15, 16: 16, 17: 17, 18: 18, 19: 19, 20: 20, 21: 21, 22: 22, 23: 23, 26: 24, 50: 25</td>\n",
       "    </tr>\n",
       "    <tr>\n",
       "      <th id=\"T_580fb_level0_row4\" class=\"row_heading level0 row4\" >4</th>\n",
       "      <td id=\"T_580fb_row4_col0\" class=\"data row4 col0\" >Original data shape</td>\n",
       "      <td id=\"T_580fb_row4_col1\" class=\"data row4 col1\" >(20285, 7)</td>\n",
       "    </tr>\n",
       "    <tr>\n",
       "      <th id=\"T_580fb_level0_row5\" class=\"row_heading level0 row5\" >5</th>\n",
       "      <td id=\"T_580fb_row5_col0\" class=\"data row5 col0\" >Transformed data shape</td>\n",
       "      <td id=\"T_580fb_row5_col1\" class=\"data row5 col1\" >(20285, 7)</td>\n",
       "    </tr>\n",
       "    <tr>\n",
       "      <th id=\"T_580fb_level0_row6\" class=\"row_heading level0 row6\" >6</th>\n",
       "      <td id=\"T_580fb_row6_col0\" class=\"data row6 col0\" >Transformed train set shape</td>\n",
       "      <td id=\"T_580fb_row6_col1\" class=\"data row6 col1\" >(16228, 7)</td>\n",
       "    </tr>\n",
       "    <tr>\n",
       "      <th id=\"T_580fb_level0_row7\" class=\"row_heading level0 row7\" >7</th>\n",
       "      <td id=\"T_580fb_row7_col0\" class=\"data row7 col0\" >Transformed test set shape</td>\n",
       "      <td id=\"T_580fb_row7_col1\" class=\"data row7 col1\" >(4057, 7)</td>\n",
       "    </tr>\n",
       "    <tr>\n",
       "      <th id=\"T_580fb_level0_row8\" class=\"row_heading level0 row8\" >8</th>\n",
       "      <td id=\"T_580fb_row8_col0\" class=\"data row8 col0\" >Numeric features</td>\n",
       "      <td id=\"T_580fb_row8_col1\" class=\"data row8 col1\" >6</td>\n",
       "    </tr>\n",
       "    <tr>\n",
       "      <th id=\"T_580fb_level0_row9\" class=\"row_heading level0 row9\" >9</th>\n",
       "      <td id=\"T_580fb_row9_col0\" class=\"data row9 col0\" >Preprocess</td>\n",
       "      <td id=\"T_580fb_row9_col1\" class=\"data row9 col1\" >True</td>\n",
       "    </tr>\n",
       "    <tr>\n",
       "      <th id=\"T_580fb_level0_row10\" class=\"row_heading level0 row10\" >10</th>\n",
       "      <td id=\"T_580fb_row10_col0\" class=\"data row10 col0\" >Imputation type</td>\n",
       "      <td id=\"T_580fb_row10_col1\" class=\"data row10 col1\" >simple</td>\n",
       "    </tr>\n",
       "    <tr>\n",
       "      <th id=\"T_580fb_level0_row11\" class=\"row_heading level0 row11\" >11</th>\n",
       "      <td id=\"T_580fb_row11_col0\" class=\"data row11 col0\" >Numeric imputation</td>\n",
       "      <td id=\"T_580fb_row11_col1\" class=\"data row11 col1\" >mean</td>\n",
       "    </tr>\n",
       "    <tr>\n",
       "      <th id=\"T_580fb_level0_row12\" class=\"row_heading level0 row12\" >12</th>\n",
       "      <td id=\"T_580fb_row12_col0\" class=\"data row12 col0\" >Categorical imputation</td>\n",
       "      <td id=\"T_580fb_row12_col1\" class=\"data row12 col1\" >mode</td>\n",
       "    </tr>\n",
       "    <tr>\n",
       "      <th id=\"T_580fb_level0_row13\" class=\"row_heading level0 row13\" >13</th>\n",
       "      <td id=\"T_580fb_row13_col0\" class=\"data row13 col0\" >Normalize</td>\n",
       "      <td id=\"T_580fb_row13_col1\" class=\"data row13 col1\" >True</td>\n",
       "    </tr>\n",
       "    <tr>\n",
       "      <th id=\"T_580fb_level0_row14\" class=\"row_heading level0 row14\" >14</th>\n",
       "      <td id=\"T_580fb_row14_col0\" class=\"data row14 col0\" >Normalize method</td>\n",
       "      <td id=\"T_580fb_row14_col1\" class=\"data row14 col1\" >zscore</td>\n",
       "    </tr>\n",
       "    <tr>\n",
       "      <th id=\"T_580fb_level0_row15\" class=\"row_heading level0 row15\" >15</th>\n",
       "      <td id=\"T_580fb_row15_col0\" class=\"data row15 col0\" >Fold Generator</td>\n",
       "      <td id=\"T_580fb_row15_col1\" class=\"data row15 col1\" >StratifiedKFold</td>\n",
       "    </tr>\n",
       "    <tr>\n",
       "      <th id=\"T_580fb_level0_row16\" class=\"row_heading level0 row16\" >16</th>\n",
       "      <td id=\"T_580fb_row16_col0\" class=\"data row16 col0\" >Fold Number</td>\n",
       "      <td id=\"T_580fb_row16_col1\" class=\"data row16 col1\" >10</td>\n",
       "    </tr>\n",
       "    <tr>\n",
       "      <th id=\"T_580fb_level0_row17\" class=\"row_heading level0 row17\" >17</th>\n",
       "      <td id=\"T_580fb_row17_col0\" class=\"data row17 col0\" >CPU Jobs</td>\n",
       "      <td id=\"T_580fb_row17_col1\" class=\"data row17 col1\" >-1</td>\n",
       "    </tr>\n",
       "    <tr>\n",
       "      <th id=\"T_580fb_level0_row18\" class=\"row_heading level0 row18\" >18</th>\n",
       "      <td id=\"T_580fb_row18_col0\" class=\"data row18 col0\" >Use GPU</td>\n",
       "      <td id=\"T_580fb_row18_col1\" class=\"data row18 col1\" >False</td>\n",
       "    </tr>\n",
       "    <tr>\n",
       "      <th id=\"T_580fb_level0_row19\" class=\"row_heading level0 row19\" >19</th>\n",
       "      <td id=\"T_580fb_row19_col0\" class=\"data row19 col0\" >Log Experiment</td>\n",
       "      <td id=\"T_580fb_row19_col1\" class=\"data row19 col1\" >False</td>\n",
       "    </tr>\n",
       "    <tr>\n",
       "      <th id=\"T_580fb_level0_row20\" class=\"row_heading level0 row20\" >20</th>\n",
       "      <td id=\"T_580fb_row20_col0\" class=\"data row20 col0\" >Experiment Name</td>\n",
       "      <td id=\"T_580fb_row20_col1\" class=\"data row20 col1\" >clf-default-name</td>\n",
       "    </tr>\n",
       "    <tr>\n",
       "      <th id=\"T_580fb_level0_row21\" class=\"row_heading level0 row21\" >21</th>\n",
       "      <td id=\"T_580fb_row21_col0\" class=\"data row21 col0\" >USI</td>\n",
       "      <td id=\"T_580fb_row21_col1\" class=\"data row21 col1\" >22eb</td>\n",
       "    </tr>\n",
       "  </tbody>\n",
       "</table>\n"
      ],
      "text/plain": [
       "<pandas.io.formats.style.Styler at 0x232ae1821d0>"
      ]
     },
     "metadata": {},
     "output_type": "display_data"
    },
    {
     "data": {
      "text/html": [],
      "text/plain": [
       "<IPython.core.display.HTML object>"
      ]
     },
     "metadata": {},
     "output_type": "display_data"
    },
    {
     "data": {
      "text/html": [
       "<style type=\"text/css\">\n",
       "</style>\n",
       "<table id=\"T_fb993\">\n",
       "  <thead>\n",
       "  </thead>\n",
       "  <tbody>\n",
       "  </tbody>\n",
       "</table>\n"
      ],
      "text/plain": [
       "<pandas.io.formats.style.Styler at 0x232ae181ff0>"
      ]
     },
     "metadata": {},
     "output_type": "display_data"
    },
    {
     "data": {
      "text/html": [],
      "text/plain": [
       "<IPython.core.display.HTML object>"
      ]
     },
     "metadata": {},
     "output_type": "display_data"
    },
    {
     "ename": "IndexError",
     "evalue": "list index out of range",
     "output_type": "error",
     "traceback": [
      "\u001b[1;31m---------------------------------------------------------------------------\u001b[0m",
      "\u001b[1;31mIndexError\u001b[0m                                Traceback (most recent call last)",
      "Cell \u001b[1;32mIn[56], line 23\u001b[0m\n\u001b[0;32m     17\u001b[0m list_models \u001b[38;5;241m=\u001b[39m exp\u001b[38;5;241m.\u001b[39mcompare_models([\u001b[38;5;124m'\u001b[39m\u001b[38;5;124mdt\u001b[39m\u001b[38;5;124m'\u001b[39m,\u001b[38;5;124m'\u001b[39m\u001b[38;5;124mlr\u001b[39m\u001b[38;5;124m'\u001b[39m], n_select\u001b[38;5;241m=\u001b[39m\u001b[38;5;241m2\u001b[39m, sort\u001b[38;5;241m=\u001b[39m\u001b[38;5;124m'\u001b[39m\u001b[38;5;124mf1\u001b[39m\u001b[38;5;124m'\u001b[39m)\n\u001b[0;32m     19\u001b[0m \u001b[38;5;66;03m# REGRESSAO\u001b[39;00m\n\u001b[0;32m     20\u001b[0m \u001b[38;5;66;03m# exp.plot_model(list_models[0], plot='vc', save = True)\u001b[39;00m\n\u001b[0;32m     21\u001b[0m \u001b[38;5;66;03m#yhat_test = exp.predict_model(list_models[0])\u001b[39;00m\n\u001b[0;32m     22\u001b[0m plot_parameter_validation_curve(xtrain\u001b[38;5;241m.\u001b[39mdrop(\u001b[38;5;124m'\u001b[39m\u001b[38;5;124mshot_distance\u001b[39m\u001b[38;5;124m'\u001b[39m, axis\u001b[38;5;241m=\u001b[39m\u001b[38;5;241m1\u001b[39m), ytrain, \u001b[38;5;124m'\u001b[39m\u001b[38;5;124mC\u001b[39m\u001b[38;5;124m'\u001b[39m, {\u001b[38;5;124m'\u001b[39m\u001b[38;5;124mC\u001b[39m\u001b[38;5;124m'\u001b[39m: [\u001b[38;5;241m0.001\u001b[39m, \u001b[38;5;241m0.01\u001b[39m, \u001b[38;5;241m0.1\u001b[39m, \u001b[38;5;241m1\u001b[39m, \u001b[38;5;241m10\u001b[39m]},\n\u001b[1;32m---> 23\u001b[0m                                     \u001b[43mlist_models\u001b[49m\u001b[43m[\u001b[49m\u001b[38;5;241;43m0\u001b[39;49m\u001b[43m]\u001b[49m, \u001b[38;5;124m'\u001b[39m\u001b[38;5;124mRegressão Logística\u001b[39m\u001b[38;5;124m'\u001b[39m, \u001b[38;5;124m'\u001b[39m\u001b[38;5;124mf1\u001b[39m\u001b[38;5;124m'\u001b[39m, logx\u001b[38;5;241m=\u001b[39m\u001b[38;5;28;01mTrue\u001b[39;00m)\n\u001b[0;32m     24\u001b[0m plt\u001b[38;5;241m.\u001b[39msavefig(\u001b[38;5;124m'\u001b[39m\u001b[38;5;124mlr_validation_curve.png\u001b[39m\u001b[38;5;124m'\u001b[39m)\n\u001b[0;32m     25\u001b[0m mlflow\u001b[38;5;241m.\u001b[39mlog_artifact(\u001b[38;5;124m'\u001b[39m\u001b[38;5;124mlr_validation_curve.png\u001b[39m\u001b[38;5;124m'\u001b[39m)\n",
      "\u001b[1;31mIndexError\u001b[0m: list index out of range"
     ]
    }
   ],
   "source": [
    "import os\n",
    "from sklearn.metrics import log_loss, f1_score\n",
    "\n",
    "registered_model_name = 'model_kobe'\n",
    "nexamples = 5\n",
    "model_version = -1\n",
    "\n",
    "with mlflow.start_run(experiment_id=experiment_id, run_name = 'Treinamento'):\n",
    "  \n",
    "    exp = pc.setup(\n",
    "        data=xtrain,\n",
    "        target = 'shot_distance',\n",
    "        test_data = xtest,\n",
    "        normalize=True,\n",
    "        log_experiment = False\n",
    "    )\n",
    "    list_models = exp.compare_models(['dt','lr'], n_select=2, sort='f1')\n",
    "\n",
    "    # REGRESSAO\n",
    "    # exp.plot_model(list_models[0], plot='vc', save = True)\n",
    "    yhat_test = exp.predict_model(list_models[0])\n",
    "    plot_parameter_validation_curve(xtrain.drop('shot_distance', axis=1), ytrain, 'C', {'C': [0.001, 0.01, 0.1, 1, 10]},\n",
    "                                        list_models[0], 'Regressão Logística', 'f1', logx=True)\n",
    "    plt.savefig('lr_validation_curve.png')\n",
    "    mlflow.log_artifact('lr_validation_curve.png')\n",
    "    # os.remove('lr_validation_curve.png')\n",
    "    \n",
    "    mlflow.log_metrics({\n",
    "        'lr_log_loss': log_loss(yhat_test.target, yhat_test.prediction_label),\n",
    "        'lr_f1': f1_score(yhat_test.target, yhat_test.prediction_label),\n",
    "    })\n",
    "    \n",
    "    # ARVORE\n",
    "    yhat_test = exp.predict_model(list_models[1])\n",
    "    plot_parameter_validation_curve(xtrain.drop('shot_distance', axis=1), ytrain, 'max_depth', {'max_depth': [2, 3, 4, 5, 6, 7, 8]},\n",
    "                                    list_models[1], 'Árvore Decisão', 'f1', logx=False)\n",
    "    plt.savefig('dt_validation_curve.png')\n",
    "    mlflow.log_artifact('dt_validation_curve.png')\n",
    "    # os.remove('dt_validation_curve.png')\n",
    "\n",
    "    mlflow.log_metrics({\n",
    "        'dt_log_loss': log_loss(yhat_test.target, yhat_test.prediction_label),\n",
    "        'dt_f1': f1_score(yhat_test.target, yhat_test.prediction_label),\n",
    "    })\n",
    "    \n",
    "     # FINALIZACAO MELHOR MODELO\n",
    "    tune_model = exp.tune_model(list_models[0],\n",
    "                                optimize = 'f1',\n",
    "                                search_library = 'scikit-learn',\n",
    "                                search_algorithm = 'random',\n",
    "                                n_iter = 4)\n",
    "    yhat_test = exp.predict_model(tune_model, raw_score=True)  \n",
    "    mlflow.log_metrics({\n",
    "        'final_model_log_loss': log_loss(yhat_test.target, yhat_test.prediction_label),\n",
    "        'final_model_f1': f1_score(yhat_test.target, yhat_test.prediction_label),\n",
    "    })\n",
    "    yhat_test.to_parquet('D:\\\\repositorios\\\\kobe-dataset\\\\data\\\\processed\\\\prediction_test.parquet')\n",
    "    mlflow.log_artifact('D:\\\\repositorios\\\\kobe-dataset\\\\data\\\\processed\\\\prediction_test.parquet')\n",
    "    \n",
    "    final_model = exp.finalize_model(tune_model)\n",
    "    \n",
    "    # EXPORTACAO PARA LOG E REGISTRO DO MODELO\n",
    "    exp.save_model(final_model, f'./{registered_model_name}') \n",
    "    # Carrega novamente o pipeline + bestmodel\n",
    "    model_pipe = exp.load_model(f'./{registered_model_name}')\n",
    "    # Assinatura do Modelo Inferida pelo MLFlow\n",
    "    model_features = list(xtrain.drop('shot_distance', axis=1).columns)\n",
    "    inf_signature = infer_signature(xtrain[model_features], \n",
    "                                    model_pipe.predict_proba(xtrain.drop('shot_distance', axis=1)))\n",
    "    # Exemplo de entrada para o MLmodel\n",
    "    input_example = {x: xtrain[x].values[:nexamples] for x in model_features}\n",
    "    # Log do pipeline de modelagem do sklearn e registrar como uma nova versao\n",
    "    mlflow.sklearn.log_model(\n",
    "        sk_model=model_pipe,\n",
    "        artifact_path=\"sklearn-model\",\n",
    "        registered_model_name=registered_model_name,\n",
    "        signature = inf_signature,\n",
    "        input_example = input_example,\n",
    "        pyfunc_predict_fn='predict_proba'\n",
    "    )\n",
    "    # Criacao do cliente do servico MLFlow e atualizacao versao modelo\n",
    "    client = MlflowClient()\n",
    "    if model_version == -1:\n",
    "        model_version = client.get_latest_versions(registered_model_name)[-1].version\n",
    "    # Registrar o modelo como staging\n",
    "    client.set_registered_model_alias(\n",
    "        name    = registered_model_name, \n",
    "        alias   = \"staging\", \n",
    "        version = model_version\n",
    "    )"
   ]
  },
  {
   "cell_type": "code",
   "execution_count": null,
   "id": "b708e6fa-860d-4e1c-9b50-3c5087994830",
   "metadata": {},
   "outputs": [],
   "source": []
  }
 ],
 "metadata": {
  "kernelspec": {
   "display_name": "Python 3 (ipykernel)",
   "language": "python",
   "name": "python3"
  },
  "language_info": {
   "codemirror_mode": {
    "name": "ipython",
    "version": 3
   },
   "file_extension": ".py",
   "mimetype": "text/x-python",
   "name": "python",
   "nbconvert_exporter": "python",
   "pygments_lexer": "ipython3",
   "version": "3.10.14"
  },
  "widgets": {
   "application/vnd.jupyter.widget-state+json": {
    "state": {
     "107c8e1c6efd4278a2744c290e1c9066": {
      "model_module": "@jupyter-widgets/controls",
      "model_module_version": "2.0.0",
      "model_name": "HTMLModel",
      "state": {
       "layout": "IPY_MODEL_74ea35930803449a8887f2f25a358843",
       "style": "IPY_MODEL_d110ba825ff14443ad740b7a96878087",
       "value": "Processing: 100%"
      }
     },
     "22dca370bdd04e5baaf93230611fbf21": {
      "model_module": "@jupyter-widgets/base",
      "model_module_version": "2.0.0",
      "model_name": "LayoutModel",
      "state": {
       "visibility": "hidden"
      }
     },
     "29ae1c8e076d4888bc2d818255730a9e": {
      "model_module": "@jupyter-widgets/controls",
      "model_module_version": "2.0.0",
      "model_name": "HTMLModel",
      "state": {
       "layout": "IPY_MODEL_2b4a706a27dd415683b0a20c94dd7018",
       "style": "IPY_MODEL_65917f2e77424f808b118c09e0417f6a",
       "value": "Processing: 100%"
      }
     },
     "2b4a706a27dd415683b0a20c94dd7018": {
      "model_module": "@jupyter-widgets/base",
      "model_module_version": "2.0.0",
      "model_name": "LayoutModel",
      "state": {}
     },
     "32c167000a0d4f669dc4d2c3244de29d": {
      "model_module": "@jupyter-widgets/base",
      "model_module_version": "2.0.0",
      "model_name": "LayoutModel",
      "state": {}
     },
     "34c240c944d248f5bd02a4270428f745": {
      "model_module": "@jupyter-widgets/controls",
      "model_module_version": "2.0.0",
      "model_name": "HTMLStyleModel",
      "state": {
       "description_width": "",
       "font_size": null,
       "text_color": null
      }
     },
     "3f12d63a793646cc843dddff8731d4b8": {
      "model_module": "@jupyter-widgets/controls",
      "model_module_version": "2.0.0",
      "model_name": "HTMLStyleModel",
      "state": {
       "description_width": "",
       "font_size": null,
       "text_color": null
      }
     },
     "4720010de98b442591f35440b1d1a507": {
      "model_module": "@jupyter-widgets/controls",
      "model_module_version": "2.0.0",
      "model_name": "FloatProgressModel",
      "state": {
       "layout": "IPY_MODEL_f6035b3c3dd3446db2f8d1ba4891516d",
       "max": 14,
       "style": "IPY_MODEL_f065153214ff4e839dd7124130c3c8d3",
       "value": 14
      }
     },
     "65917f2e77424f808b118c09e0417f6a": {
      "model_module": "@jupyter-widgets/controls",
      "model_module_version": "2.0.0",
      "model_name": "HTMLStyleModel",
      "state": {
       "description_width": "",
       "font_size": null,
       "text_color": null
      }
     },
     "66495de955704b0682c53527604f17ce": {
      "model_module": "@jupyter-widgets/controls",
      "model_module_version": "2.0.0",
      "model_name": "HTMLModel",
      "state": {
       "layout": "IPY_MODEL_d33f2f39b4664108814212de5c4175f6",
       "style": "IPY_MODEL_34c240c944d248f5bd02a4270428f745",
       "value": " 14/14 [00:07&lt;00:00,  2.88it/s]"
      }
     },
     "74ea35930803449a8887f2f25a358843": {
      "model_module": "@jupyter-widgets/base",
      "model_module_version": "2.0.0",
      "model_name": "LayoutModel",
      "state": {}
     },
     "75cd231a5e7241b288eee0ffc9e992f1": {
      "model_module": "@jupyter-widgets/controls",
      "model_module_version": "2.0.0",
      "model_name": "HTMLModel",
      "state": {
       "layout": "IPY_MODEL_32c167000a0d4f669dc4d2c3244de29d",
       "style": "IPY_MODEL_3f12d63a793646cc843dddff8731d4b8",
       "value": " 14/14 [00:09&lt;00:00,  2.55it/s]"
      }
     },
     "7a2898d91967471e9d95cfd9d5f0b873": {
      "model_module": "@jupyter-widgets/controls",
      "model_module_version": "2.0.0",
      "model_name": "ProgressStyleModel",
      "state": {
       "description_width": ""
      }
     },
     "826659aaeb74458fb88188fdbf3dfc51": {
      "model_module": "@jupyter-widgets/controls",
      "model_module_version": "2.0.0",
      "model_name": "FloatProgressModel",
      "state": {
       "layout": "IPY_MODEL_855b4bed21f2427d9db8baa6aa75d5c9",
       "max": 14,
       "style": "IPY_MODEL_7a2898d91967471e9d95cfd9d5f0b873",
       "value": 14
      }
     },
     "855b4bed21f2427d9db8baa6aa75d5c9": {
      "model_module": "@jupyter-widgets/base",
      "model_module_version": "2.0.0",
      "model_name": "LayoutModel",
      "state": {}
     },
     "d110ba825ff14443ad740b7a96878087": {
      "model_module": "@jupyter-widgets/controls",
      "model_module_version": "2.0.0",
      "model_name": "HTMLStyleModel",
      "state": {
       "description_width": "",
       "font_size": null,
       "text_color": null
      }
     },
     "d33f2f39b4664108814212de5c4175f6": {
      "model_module": "@jupyter-widgets/base",
      "model_module_version": "2.0.0",
      "model_name": "LayoutModel",
      "state": {}
     },
     "d9ac9c2bf36e4f57848c047114340207": {
      "model_module": "@jupyter-widgets/base",
      "model_module_version": "2.0.0",
      "model_name": "LayoutModel",
      "state": {
       "visibility": "hidden"
      }
     },
     "f065153214ff4e839dd7124130c3c8d3": {
      "model_module": "@jupyter-widgets/controls",
      "model_module_version": "2.0.0",
      "model_name": "ProgressStyleModel",
      "state": {
       "description_width": ""
      }
     },
     "f6035b3c3dd3446db2f8d1ba4891516d": {
      "model_module": "@jupyter-widgets/base",
      "model_module_version": "2.0.0",
      "model_name": "LayoutModel",
      "state": {}
     }
    },
    "version_major": 2,
    "version_minor": 0
   }
  }
 },
 "nbformat": 4,
 "nbformat_minor": 5
}
