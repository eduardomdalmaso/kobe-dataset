{
 "cells": [
  {
   "cell_type": "code",
   "execution_count": 67,
   "id": "1796c835-d374-4dc3-a1b6-ac0603285ed3",
   "metadata": {},
   "outputs": [],
   "source": [
    "import os\n",
    "import pandas as pd\n",
    "import numpy as np\n",
    "import pycaret.classification as pc\n",
    "\n",
    "import matplotlib.pyplot as plt\n",
    "\n",
    "import mlflow\n",
    "from mlflow.models.signature import infer_signature\n",
    "from mlflow.tracking import MlflowClient\n",
    "\n",
    "os.environ[\"GIT_PYTHON_REFRESH\"] = \"quiet\""
   ]
  },
  {
   "cell_type": "code",
   "execution_count": 68,
   "id": "42efef7a-a944-4e11-939d-ff3ff5eeb05f",
   "metadata": {},
   "outputs": [],
   "source": [
    "#Configuração MLFLOW\n",
    "# Para usar o sqlite como repositorio\n",
    "mlflow.set_tracking_uri(\"sqlite:///mlruns.db\")\n",
    "\n",
    "experiment_name = 'Projeto Kobe'\n",
    "experiment = mlflow.get_experiment_by_name(experiment_name)\n",
    "if experiment is None:\n",
    "    experiment_id = mlflow.create_experiment(experiment_name)\n",
    "    experiment = mlflow.get_experiment(experiment_id)\n",
    "experiment_id = experiment.experiment_id"
   ]
  },
  {
   "cell_type": "code",
   "execution_count": 69,
   "id": "15b8c705-7fa2-420f-9aca-456938004e84",
   "metadata": {},
   "outputs": [],
   "source": [
    "from sklearn.model_selection import train_test_split\n",
    "\n",
    "\n",
    "data_cols = ['lat','lon', 'minutes_remaining','period', 'playoffs','shot_distance','shot_made_flag']\n",
    "train_perc = 0.8\n",
    "\n",
    "\n",
    "with mlflow.start_run(experiment_id=experiment_id, run_name = 'PreparacaoDados'):\n",
    "    \n",
    "    df_dev = pd.read_parquet(\"D:\\\\repositorios\\\\kobe-dataset\\\\data\\\\raw\\\\dataset_kobe_dev.parquet\")\n",
    "    df_dev = df_dev[data_cols].copy()\n",
    "    df_dev.dropna(inplace=True)\n",
    "    \n",
    "    df_dev.to_parquet(\"D:\\\\repositorios\\\\kobe-dataset\\\\data\\\\processed\\\\data_filtered.parquet\")\n",
    "    \n",
    "    xtrain, xtest, ytrain, ytest = train_test_split(df_dev[['lat','lon', 'minutes_remaining','period', 'playoffs','shot_distance']],\n",
    "                                                    df_dev['shot_made_flag'],                                                \n",
    "                                                    train_size=train_perc,\n",
    "                                                    stratify=df_dev['shot_made_flag'])    \n",
    "    xtrain['shot_distance'] = ytrain\n",
    "    xtest['shot_distance'] = ytest\n",
    "    xtrain.to_parquet('D:\\\\repositorios\\\\kobe-dataset\\\\data\\\\processed\\\\base_train.parquet')\n",
    "    xtest.to_parquet('D:\\\\repositorios\\\\kobe-dataset\\\\data\\\\processed\\\\base_test.parquet')\n",
    "\n",
    "    mlflow.log_params({\n",
    "        'perc-teste': 1-train_perc,\n",
    "        'colunas-selecionadas': data_cols\n",
    "    })\n",
    "    mlflow.log_metrics({\n",
    "        'qtd_linhas_treino': xtrain.shape[0],\n",
    "        'qtd_linhas_teste': xtest.shape[0],\n",
    "    })"
   ]
  },
  {
   "cell_type": "code",
   "execution_count": 70,
   "id": "7b892dfd-e311-411d-a46d-228f8210f96f",
   "metadata": {},
   "outputs": [],
   "source": [
    "#Treinando o modelo\n",
    "from sklearn.model_selection import validation_curve\n",
    "\n",
    "\n",
    "def plot_parameter_validation_curve(X, Y, param_name, grid_search,\n",
    "                                    model, model_name, scoring,\n",
    "                                    logx):\n",
    "    print('Parameter:', param_name)\n",
    "    print('GridSearch:', grid_search[param_name])\n",
    "    print('Scoring:', scoring)\n",
    "    plt.figure(figsize=(6,4))\n",
    "    train_scores, test_scores = validation_curve(model,\n",
    "                                                 X = X, \n",
    "                                                 y = Y, \n",
    "                                                 param_name=param_name, \n",
    "                                                 param_range= grid_search[param_name],\n",
    "                                                 scoring=scoring,\n",
    "                                                 cv=10,\n",
    "                                                 n_jobs=-1)\n",
    "    train_scores_mean = np.mean(train_scores, axis=1)\n",
    "    train_scores_std = np.std(train_scores, axis=1)\n",
    "    test_scores_mean = np.mean(test_scores, axis=1)\n",
    "    test_scores_std = np.std(test_scores, axis=1)\n",
    "    plt.title(\"Curva Validação Modelo \" + model_name)\n",
    "    plt.xlabel(param_name)\n",
    "    plt.ylabel(\"Score (\"+scoring+\")\")\n",
    "    if logx:\n",
    "        plt.semilogx(grid_search[param_name], train_scores_mean,'-o', label=\"Treino\",\n",
    "                     color=\"darkorange\", lw=2)\n",
    "        plt.semilogx(grid_search[param_name], test_scores_mean,'-o', label=\"Validação-Cruzada\",\n",
    "                     color=\"navy\", lw=2)\n",
    "    else:\n",
    "        plt.plot(grid_search[param_name], train_scores_mean,'-o', label=\"Treino\",\n",
    "                     color=\"darkorange\", lw=2)\n",
    "        plt.plot(grid_search[param_name], test_scores_mean,'-o', label=\"Validação-Cruzada\",\n",
    "                 color=\"navy\", lw=2)\n",
    "    plt.fill_between(grid_search[param_name], train_scores_mean - train_scores_std,\n",
    "                     train_scores_mean + train_scores_std, alpha=0.2,\n",
    "                     color=\"darkorange\", lw=2)\n",
    "    plt.fill_between(grid_search[param_name], test_scores_mean - test_scores_std,\n",
    "                     test_scores_mean + test_scores_std, alpha=0.2,\n",
    "                     color=\"navy\", lw=2)\n",
    "    plt.legend(loc='best')\n",
    "    plt.grid(True)\n",
    "    return plt.gcf()"
   ]
  },
  {
   "cell_type": "code",
   "execution_count": 71,
   "id": "e47a39ee-6c22-4281-b6c5-7af8b85b5787",
   "metadata": {},
   "outputs": [],
   "source": [
    "mlflow.end_run()"
   ]
  },
  {
   "cell_type": "code",
   "execution_count": 72,
   "id": "e680c0ad-5d77-4456-bbeb-1b358c233b49",
   "metadata": {},
   "outputs": [
    {
     "data": {
      "text/html": [
       "<style type=\"text/css\">\n",
       "#T_b1a10_row8_col1, #T_b1a10_row12_col1 {\n",
       "  background-color: lightgreen;\n",
       "}\n",
       "</style>\n",
       "<table id=\"T_b1a10\">\n",
       "  <thead>\n",
       "    <tr>\n",
       "      <th class=\"blank level0\" >&nbsp;</th>\n",
       "      <th id=\"T_b1a10_level0_col0\" class=\"col_heading level0 col0\" >Description</th>\n",
       "      <th id=\"T_b1a10_level0_col1\" class=\"col_heading level0 col1\" >Value</th>\n",
       "    </tr>\n",
       "  </thead>\n",
       "  <tbody>\n",
       "    <tr>\n",
       "      <th id=\"T_b1a10_level0_row0\" class=\"row_heading level0 row0\" >0</th>\n",
       "      <td id=\"T_b1a10_row0_col0\" class=\"data row0 col0\" >Session id</td>\n",
       "      <td id=\"T_b1a10_row0_col1\" class=\"data row0 col1\" >6362</td>\n",
       "    </tr>\n",
       "    <tr>\n",
       "      <th id=\"T_b1a10_level0_row1\" class=\"row_heading level0 row1\" >1</th>\n",
       "      <td id=\"T_b1a10_row1_col0\" class=\"data row1 col0\" >Target</td>\n",
       "      <td id=\"T_b1a10_row1_col1\" class=\"data row1 col1\" >shot_distance</td>\n",
       "    </tr>\n",
       "    <tr>\n",
       "      <th id=\"T_b1a10_level0_row2\" class=\"row_heading level0 row2\" >2</th>\n",
       "      <td id=\"T_b1a10_row2_col0\" class=\"data row2 col0\" >Target type</td>\n",
       "      <td id=\"T_b1a10_row2_col1\" class=\"data row2 col1\" >Binary</td>\n",
       "    </tr>\n",
       "    <tr>\n",
       "      <th id=\"T_b1a10_level0_row3\" class=\"row_heading level0 row3\" >3</th>\n",
       "      <td id=\"T_b1a10_row3_col0\" class=\"data row3 col0\" >Original data shape</td>\n",
       "      <td id=\"T_b1a10_row3_col1\" class=\"data row3 col1\" >(20285, 6)</td>\n",
       "    </tr>\n",
       "    <tr>\n",
       "      <th id=\"T_b1a10_level0_row4\" class=\"row_heading level0 row4\" >4</th>\n",
       "      <td id=\"T_b1a10_row4_col0\" class=\"data row4 col0\" >Transformed data shape</td>\n",
       "      <td id=\"T_b1a10_row4_col1\" class=\"data row4 col1\" >(20285, 6)</td>\n",
       "    </tr>\n",
       "    <tr>\n",
       "      <th id=\"T_b1a10_level0_row5\" class=\"row_heading level0 row5\" >5</th>\n",
       "      <td id=\"T_b1a10_row5_col0\" class=\"data row5 col0\" >Transformed train set shape</td>\n",
       "      <td id=\"T_b1a10_row5_col1\" class=\"data row5 col1\" >(16228, 6)</td>\n",
       "    </tr>\n",
       "    <tr>\n",
       "      <th id=\"T_b1a10_level0_row6\" class=\"row_heading level0 row6\" >6</th>\n",
       "      <td id=\"T_b1a10_row6_col0\" class=\"data row6 col0\" >Transformed test set shape</td>\n",
       "      <td id=\"T_b1a10_row6_col1\" class=\"data row6 col1\" >(4057, 6)</td>\n",
       "    </tr>\n",
       "    <tr>\n",
       "      <th id=\"T_b1a10_level0_row7\" class=\"row_heading level0 row7\" >7</th>\n",
       "      <td id=\"T_b1a10_row7_col0\" class=\"data row7 col0\" >Numeric features</td>\n",
       "      <td id=\"T_b1a10_row7_col1\" class=\"data row7 col1\" >5</td>\n",
       "    </tr>\n",
       "    <tr>\n",
       "      <th id=\"T_b1a10_level0_row8\" class=\"row_heading level0 row8\" >8</th>\n",
       "      <td id=\"T_b1a10_row8_col0\" class=\"data row8 col0\" >Preprocess</td>\n",
       "      <td id=\"T_b1a10_row8_col1\" class=\"data row8 col1\" >True</td>\n",
       "    </tr>\n",
       "    <tr>\n",
       "      <th id=\"T_b1a10_level0_row9\" class=\"row_heading level0 row9\" >9</th>\n",
       "      <td id=\"T_b1a10_row9_col0\" class=\"data row9 col0\" >Imputation type</td>\n",
       "      <td id=\"T_b1a10_row9_col1\" class=\"data row9 col1\" >simple</td>\n",
       "    </tr>\n",
       "    <tr>\n",
       "      <th id=\"T_b1a10_level0_row10\" class=\"row_heading level0 row10\" >10</th>\n",
       "      <td id=\"T_b1a10_row10_col0\" class=\"data row10 col0\" >Numeric imputation</td>\n",
       "      <td id=\"T_b1a10_row10_col1\" class=\"data row10 col1\" >mean</td>\n",
       "    </tr>\n",
       "    <tr>\n",
       "      <th id=\"T_b1a10_level0_row11\" class=\"row_heading level0 row11\" >11</th>\n",
       "      <td id=\"T_b1a10_row11_col0\" class=\"data row11 col0\" >Categorical imputation</td>\n",
       "      <td id=\"T_b1a10_row11_col1\" class=\"data row11 col1\" >mode</td>\n",
       "    </tr>\n",
       "    <tr>\n",
       "      <th id=\"T_b1a10_level0_row12\" class=\"row_heading level0 row12\" >12</th>\n",
       "      <td id=\"T_b1a10_row12_col0\" class=\"data row12 col0\" >Normalize</td>\n",
       "      <td id=\"T_b1a10_row12_col1\" class=\"data row12 col1\" >True</td>\n",
       "    </tr>\n",
       "    <tr>\n",
       "      <th id=\"T_b1a10_level0_row13\" class=\"row_heading level0 row13\" >13</th>\n",
       "      <td id=\"T_b1a10_row13_col0\" class=\"data row13 col0\" >Normalize method</td>\n",
       "      <td id=\"T_b1a10_row13_col1\" class=\"data row13 col1\" >zscore</td>\n",
       "    </tr>\n",
       "    <tr>\n",
       "      <th id=\"T_b1a10_level0_row14\" class=\"row_heading level0 row14\" >14</th>\n",
       "      <td id=\"T_b1a10_row14_col0\" class=\"data row14 col0\" >Fold Generator</td>\n",
       "      <td id=\"T_b1a10_row14_col1\" class=\"data row14 col1\" >StratifiedKFold</td>\n",
       "    </tr>\n",
       "    <tr>\n",
       "      <th id=\"T_b1a10_level0_row15\" class=\"row_heading level0 row15\" >15</th>\n",
       "      <td id=\"T_b1a10_row15_col0\" class=\"data row15 col0\" >Fold Number</td>\n",
       "      <td id=\"T_b1a10_row15_col1\" class=\"data row15 col1\" >10</td>\n",
       "    </tr>\n",
       "    <tr>\n",
       "      <th id=\"T_b1a10_level0_row16\" class=\"row_heading level0 row16\" >16</th>\n",
       "      <td id=\"T_b1a10_row16_col0\" class=\"data row16 col0\" >CPU Jobs</td>\n",
       "      <td id=\"T_b1a10_row16_col1\" class=\"data row16 col1\" >-1</td>\n",
       "    </tr>\n",
       "    <tr>\n",
       "      <th id=\"T_b1a10_level0_row17\" class=\"row_heading level0 row17\" >17</th>\n",
       "      <td id=\"T_b1a10_row17_col0\" class=\"data row17 col0\" >Use GPU</td>\n",
       "      <td id=\"T_b1a10_row17_col1\" class=\"data row17 col1\" >False</td>\n",
       "    </tr>\n",
       "    <tr>\n",
       "      <th id=\"T_b1a10_level0_row18\" class=\"row_heading level0 row18\" >18</th>\n",
       "      <td id=\"T_b1a10_row18_col0\" class=\"data row18 col0\" >Log Experiment</td>\n",
       "      <td id=\"T_b1a10_row18_col1\" class=\"data row18 col1\" >False</td>\n",
       "    </tr>\n",
       "    <tr>\n",
       "      <th id=\"T_b1a10_level0_row19\" class=\"row_heading level0 row19\" >19</th>\n",
       "      <td id=\"T_b1a10_row19_col0\" class=\"data row19 col0\" >Experiment Name</td>\n",
       "      <td id=\"T_b1a10_row19_col1\" class=\"data row19 col1\" >clf-default-name</td>\n",
       "    </tr>\n",
       "    <tr>\n",
       "      <th id=\"T_b1a10_level0_row20\" class=\"row_heading level0 row20\" >20</th>\n",
       "      <td id=\"T_b1a10_row20_col0\" class=\"data row20 col0\" >USI</td>\n",
       "      <td id=\"T_b1a10_row20_col1\" class=\"data row20 col1\" >450f</td>\n",
       "    </tr>\n",
       "  </tbody>\n",
       "</table>\n"
      ],
      "text/plain": [
       "<pandas.io.formats.style.Styler at 0x232b243b790>"
      ]
     },
     "metadata": {},
     "output_type": "display_data"
    },
    {
     "data": {
      "text/html": [],
      "text/plain": [
       "<IPython.core.display.HTML object>"
      ]
     },
     "metadata": {},
     "output_type": "display_data"
    },
    {
     "data": {
      "text/html": [
       "<style type=\"text/css\">\n",
       "#T_4564c th {\n",
       "  text-align: left;\n",
       "}\n",
       "#T_4564c_row0_col0, #T_4564c_row0_col1, #T_4564c_row0_col2, #T_4564c_row0_col4, #T_4564c_row0_col6, #T_4564c_row0_col7, #T_4564c_row1_col0, #T_4564c_row1_col3, #T_4564c_row1_col5 {\n",
       "  text-align: left;\n",
       "}\n",
       "#T_4564c_row0_col3, #T_4564c_row0_col5, #T_4564c_row1_col1, #T_4564c_row1_col2, #T_4564c_row1_col4, #T_4564c_row1_col6, #T_4564c_row1_col7 {\n",
       "  text-align: left;\n",
       "  background-color: yellow;\n",
       "}\n",
       "#T_4564c_row0_col8 {\n",
       "  text-align: left;\n",
       "  background-color: lightgrey;\n",
       "}\n",
       "#T_4564c_row1_col8 {\n",
       "  text-align: left;\n",
       "  background-color: yellow;\n",
       "  background-color: lightgrey;\n",
       "}\n",
       "</style>\n",
       "<table id=\"T_4564c\">\n",
       "  <thead>\n",
       "    <tr>\n",
       "      <th class=\"blank level0\" >&nbsp;</th>\n",
       "      <th id=\"T_4564c_level0_col0\" class=\"col_heading level0 col0\" >Model</th>\n",
       "      <th id=\"T_4564c_level0_col1\" class=\"col_heading level0 col1\" >Accuracy</th>\n",
       "      <th id=\"T_4564c_level0_col2\" class=\"col_heading level0 col2\" >AUC</th>\n",
       "      <th id=\"T_4564c_level0_col3\" class=\"col_heading level0 col3\" >Recall</th>\n",
       "      <th id=\"T_4564c_level0_col4\" class=\"col_heading level0 col4\" >Prec.</th>\n",
       "      <th id=\"T_4564c_level0_col5\" class=\"col_heading level0 col5\" >F1</th>\n",
       "      <th id=\"T_4564c_level0_col6\" class=\"col_heading level0 col6\" >Kappa</th>\n",
       "      <th id=\"T_4564c_level0_col7\" class=\"col_heading level0 col7\" >MCC</th>\n",
       "      <th id=\"T_4564c_level0_col8\" class=\"col_heading level0 col8\" >TT (Sec)</th>\n",
       "    </tr>\n",
       "  </thead>\n",
       "  <tbody>\n",
       "    <tr>\n",
       "      <th id=\"T_4564c_level0_row0\" class=\"row_heading level0 row0\" >dt</th>\n",
       "      <td id=\"T_4564c_row0_col0\" class=\"data row0 col0\" >Decision Tree Classifier</td>\n",
       "      <td id=\"T_4564c_row0_col1\" class=\"data row0 col1\" >0.5412</td>\n",
       "      <td id=\"T_4564c_row0_col2\" class=\"data row0 col2\" >0.5021</td>\n",
       "      <td id=\"T_4564c_row0_col3\" class=\"data row0 col3\" >0.5784</td>\n",
       "      <td id=\"T_4564c_row0_col4\" class=\"data row0 col4\" >0.5174</td>\n",
       "      <td id=\"T_4564c_row0_col5\" class=\"data row0 col5\" >0.5462</td>\n",
       "      <td id=\"T_4564c_row0_col6\" class=\"data row0 col6\" >0.0852</td>\n",
       "      <td id=\"T_4564c_row0_col7\" class=\"data row0 col7\" >0.0858</td>\n",
       "      <td id=\"T_4564c_row0_col8\" class=\"data row0 col8\" >0.1740</td>\n",
       "    </tr>\n",
       "    <tr>\n",
       "      <th id=\"T_4564c_level0_row1\" class=\"row_heading level0 row1\" >lr</th>\n",
       "      <td id=\"T_4564c_row1_col0\" class=\"data row1 col0\" >Logistic Regression</td>\n",
       "      <td id=\"T_4564c_row1_col1\" class=\"data row1 col1\" >0.5576</td>\n",
       "      <td id=\"T_4564c_row1_col2\" class=\"data row1 col2\" >0.5679</td>\n",
       "      <td id=\"T_4564c_row1_col3\" class=\"data row1 col3\" >0.5138</td>\n",
       "      <td id=\"T_4564c_row1_col4\" class=\"data row1 col4\" >0.5386</td>\n",
       "      <td id=\"T_4564c_row1_col5\" class=\"data row1 col5\" >0.5258</td>\n",
       "      <td id=\"T_4564c_row1_col6\" class=\"data row1 col6\" >0.1116</td>\n",
       "      <td id=\"T_4564c_row1_col7\" class=\"data row1 col7\" >0.1117</td>\n",
       "      <td id=\"T_4564c_row1_col8\" class=\"data row1 col8\" >0.0170</td>\n",
       "    </tr>\n",
       "  </tbody>\n",
       "</table>\n"
      ],
      "text/plain": [
       "<pandas.io.formats.style.Styler at 0x232822d68c0>"
      ]
     },
     "metadata": {},
     "output_type": "display_data"
    },
    {
     "data": {
      "text/html": [],
      "text/plain": [
       "<IPython.core.display.HTML object>"
      ]
     },
     "metadata": {},
     "output_type": "display_data"
    },
    {
     "data": {
      "text/html": [
       "<style type=\"text/css\">\n",
       "</style>\n",
       "<table id=\"T_55232\">\n",
       "  <thead>\n",
       "    <tr>\n",
       "      <th class=\"blank level0\" >&nbsp;</th>\n",
       "      <th id=\"T_55232_level0_col0\" class=\"col_heading level0 col0\" >Model</th>\n",
       "      <th id=\"T_55232_level0_col1\" class=\"col_heading level0 col1\" >Accuracy</th>\n",
       "      <th id=\"T_55232_level0_col2\" class=\"col_heading level0 col2\" >AUC</th>\n",
       "      <th id=\"T_55232_level0_col3\" class=\"col_heading level0 col3\" >Recall</th>\n",
       "      <th id=\"T_55232_level0_col4\" class=\"col_heading level0 col4\" >Prec.</th>\n",
       "      <th id=\"T_55232_level0_col5\" class=\"col_heading level0 col5\" >F1</th>\n",
       "      <th id=\"T_55232_level0_col6\" class=\"col_heading level0 col6\" >Kappa</th>\n",
       "      <th id=\"T_55232_level0_col7\" class=\"col_heading level0 col7\" >MCC</th>\n",
       "    </tr>\n",
       "  </thead>\n",
       "  <tbody>\n",
       "    <tr>\n",
       "      <th id=\"T_55232_level0_row0\" class=\"row_heading level0 row0\" >0</th>\n",
       "      <td id=\"T_55232_row0_col0\" class=\"data row0 col0\" >Logistic Regression</td>\n",
       "      <td id=\"T_55232_row0_col1\" class=\"data row0 col1\" >0.5479</td>\n",
       "      <td id=\"T_55232_row0_col2\" class=\"data row0 col2\" >0.5611</td>\n",
       "      <td id=\"T_55232_row0_col3\" class=\"data row0 col3\" >0.5106</td>\n",
       "      <td id=\"T_55232_row0_col4\" class=\"data row0 col4\" >0.5275</td>\n",
       "      <td id=\"T_55232_row0_col5\" class=\"data row0 col5\" >0.5189</td>\n",
       "      <td id=\"T_55232_row0_col6\" class=\"data row0 col6\" >0.0928</td>\n",
       "      <td id=\"T_55232_row0_col7\" class=\"data row0 col7\" >0.0928</td>\n",
       "    </tr>\n",
       "  </tbody>\n",
       "</table>\n"
      ],
      "text/plain": [
       "<pandas.io.formats.style.Styler at 0x232ac8d88e0>"
      ]
     },
     "metadata": {},
     "output_type": "display_data"
    },
    {
     "name": "stdout",
     "output_type": "stream",
     "text": [
      "Parameter: C\n",
      "GridSearch: [0.001, 0.01, 0.1, 1, 10]\n",
      "Scoring: f1\n"
     ]
    },
    {
     "data": {
      "text/html": [
       "<style type=\"text/css\">\n",
       "</style>\n",
       "<table id=\"T_67e32\">\n",
       "  <thead>\n",
       "    <tr>\n",
       "      <th class=\"blank level0\" >&nbsp;</th>\n",
       "      <th id=\"T_67e32_level0_col0\" class=\"col_heading level0 col0\" >Model</th>\n",
       "      <th id=\"T_67e32_level0_col1\" class=\"col_heading level0 col1\" >Accuracy</th>\n",
       "      <th id=\"T_67e32_level0_col2\" class=\"col_heading level0 col2\" >AUC</th>\n",
       "      <th id=\"T_67e32_level0_col3\" class=\"col_heading level0 col3\" >Recall</th>\n",
       "      <th id=\"T_67e32_level0_col4\" class=\"col_heading level0 col4\" >Prec.</th>\n",
       "      <th id=\"T_67e32_level0_col5\" class=\"col_heading level0 col5\" >F1</th>\n",
       "      <th id=\"T_67e32_level0_col6\" class=\"col_heading level0 col6\" >Kappa</th>\n",
       "      <th id=\"T_67e32_level0_col7\" class=\"col_heading level0 col7\" >MCC</th>\n",
       "    </tr>\n",
       "  </thead>\n",
       "  <tbody>\n",
       "    <tr>\n",
       "      <th id=\"T_67e32_level0_row0\" class=\"row_heading level0 row0\" >0</th>\n",
       "      <td id=\"T_67e32_row0_col0\" class=\"data row0 col0\" >Decision Tree Classifier</td>\n",
       "      <td id=\"T_67e32_row0_col1\" class=\"data row0 col1\" >0.5356</td>\n",
       "      <td id=\"T_67e32_row0_col2\" class=\"data row0 col2\" >0.5181</td>\n",
       "      <td id=\"T_67e32_row0_col3\" class=\"data row0 col3\" >0.5658</td>\n",
       "      <td id=\"T_67e32_row0_col4\" class=\"data row0 col4\" >0.5124</td>\n",
       "      <td id=\"T_67e32_row0_col5\" class=\"data row0 col5\" >0.5378</td>\n",
       "      <td id=\"T_67e32_row0_col6\" class=\"data row0 col6\" >0.0735</td>\n",
       "      <td id=\"T_67e32_row0_col7\" class=\"data row0 col7\" >0.0739</td>\n",
       "    </tr>\n",
       "  </tbody>\n",
       "</table>\n"
      ],
      "text/plain": [
       "<pandas.io.formats.style.Styler at 0x232ae50a7d0>"
      ]
     },
     "metadata": {},
     "output_type": "display_data"
    },
    {
     "name": "stdout",
     "output_type": "stream",
     "text": [
      "Parameter: max_depth\n",
      "GridSearch: [2, 3, 4, 5, 6, 7, 8]\n",
      "Scoring: f1\n"
     ]
    },
    {
     "data": {
      "text/html": [],
      "text/plain": [
       "<IPython.core.display.HTML object>"
      ]
     },
     "metadata": {},
     "output_type": "display_data"
    },
    {
     "data": {
      "text/html": [
       "<style type=\"text/css\">\n",
       "#T_51a06_row10_col0, #T_51a06_row10_col1, #T_51a06_row10_col2, #T_51a06_row10_col3, #T_51a06_row10_col4, #T_51a06_row10_col5, #T_51a06_row10_col6 {\n",
       "  background: yellow;\n",
       "}\n",
       "</style>\n",
       "<table id=\"T_51a06\">\n",
       "  <thead>\n",
       "    <tr>\n",
       "      <th class=\"blank level0\" >&nbsp;</th>\n",
       "      <th id=\"T_51a06_level0_col0\" class=\"col_heading level0 col0\" >Accuracy</th>\n",
       "      <th id=\"T_51a06_level0_col1\" class=\"col_heading level0 col1\" >AUC</th>\n",
       "      <th id=\"T_51a06_level0_col2\" class=\"col_heading level0 col2\" >Recall</th>\n",
       "      <th id=\"T_51a06_level0_col3\" class=\"col_heading level0 col3\" >Prec.</th>\n",
       "      <th id=\"T_51a06_level0_col4\" class=\"col_heading level0 col4\" >F1</th>\n",
       "      <th id=\"T_51a06_level0_col5\" class=\"col_heading level0 col5\" >Kappa</th>\n",
       "      <th id=\"T_51a06_level0_col6\" class=\"col_heading level0 col6\" >MCC</th>\n",
       "    </tr>\n",
       "    <tr>\n",
       "      <th class=\"index_name level0\" >Fold</th>\n",
       "      <th class=\"blank col0\" >&nbsp;</th>\n",
       "      <th class=\"blank col1\" >&nbsp;</th>\n",
       "      <th class=\"blank col2\" >&nbsp;</th>\n",
       "      <th class=\"blank col3\" >&nbsp;</th>\n",
       "      <th class=\"blank col4\" >&nbsp;</th>\n",
       "      <th class=\"blank col5\" >&nbsp;</th>\n",
       "      <th class=\"blank col6\" >&nbsp;</th>\n",
       "    </tr>\n",
       "  </thead>\n",
       "  <tbody>\n",
       "    <tr>\n",
       "      <th id=\"T_51a06_level0_row0\" class=\"row_heading level0 row0\" >0</th>\n",
       "      <td id=\"T_51a06_row0_col0\" class=\"data row0 col0\" >0.5730</td>\n",
       "      <td id=\"T_51a06_row0_col1\" class=\"data row0 col1\" >0.5000</td>\n",
       "      <td id=\"T_51a06_row0_col2\" class=\"data row0 col2\" >0.3148</td>\n",
       "      <td id=\"T_51a06_row0_col3\" class=\"data row0 col3\" >0.6010</td>\n",
       "      <td id=\"T_51a06_row0_col4\" class=\"data row0 col4\" >0.4132</td>\n",
       "      <td id=\"T_51a06_row0_col5\" class=\"data row0 col5\" >0.1264</td>\n",
       "      <td id=\"T_51a06_row0_col6\" class=\"data row0 col6\" >0.1428</td>\n",
       "    </tr>\n",
       "    <tr>\n",
       "      <th id=\"T_51a06_level0_row1\" class=\"row_heading level0 row1\" >1</th>\n",
       "      <td id=\"T_51a06_row1_col0\" class=\"data row1 col0\" >0.6014</td>\n",
       "      <td id=\"T_51a06_row1_col1\" class=\"data row1 col1\" >0.5000</td>\n",
       "      <td id=\"T_51a06_row1_col2\" class=\"data row1 col2\" >0.3329</td>\n",
       "      <td id=\"T_51a06_row1_col3\" class=\"data row1 col3\" >0.6649</td>\n",
       "      <td id=\"T_51a06_row1_col4\" class=\"data row1 col4\" >0.4437</td>\n",
       "      <td id=\"T_51a06_row1_col5\" class=\"data row1 col5\" >0.1835</td>\n",
       "      <td id=\"T_51a06_row1_col6\" class=\"data row1 col6\" >0.2103</td>\n",
       "    </tr>\n",
       "    <tr>\n",
       "      <th id=\"T_51a06_level0_row2\" class=\"row_heading level0 row2\" >2</th>\n",
       "      <td id=\"T_51a06_row2_col0\" class=\"data row2 col0\" >0.5804</td>\n",
       "      <td id=\"T_51a06_row2_col1\" class=\"data row2 col1\" >0.5000</td>\n",
       "      <td id=\"T_51a06_row2_col2\" class=\"data row2 col2\" >0.3252</td>\n",
       "      <td id=\"T_51a06_row2_col3\" class=\"data row2 col3\" >0.6146</td>\n",
       "      <td id=\"T_51a06_row2_col4\" class=\"data row2 col4\" >0.4253</td>\n",
       "      <td id=\"T_51a06_row2_col5\" class=\"data row2 col5\" >0.1417</td>\n",
       "      <td id=\"T_51a06_row2_col6\" class=\"data row2 col6\" >0.1596</td>\n",
       "    </tr>\n",
       "    <tr>\n",
       "      <th id=\"T_51a06_level0_row3\" class=\"row_heading level0 row3\" >3</th>\n",
       "      <td id=\"T_51a06_row3_col0\" class=\"data row3 col0\" >0.5804</td>\n",
       "      <td id=\"T_51a06_row3_col1\" class=\"data row3 col1\" >0.5000</td>\n",
       "      <td id=\"T_51a06_row3_col2\" class=\"data row3 col2\" >0.3213</td>\n",
       "      <td id=\"T_51a06_row3_col3\" class=\"data row3 col3\" >0.6163</td>\n",
       "      <td id=\"T_51a06_row3_col4\" class=\"data row3 col4\" >0.4224</td>\n",
       "      <td id=\"T_51a06_row3_col5\" class=\"data row3 col5\" >0.1414</td>\n",
       "      <td id=\"T_51a06_row3_col6\" class=\"data row3 col6\" >0.1600</td>\n",
       "    </tr>\n",
       "    <tr>\n",
       "      <th id=\"T_51a06_level0_row4\" class=\"row_heading level0 row4\" >4</th>\n",
       "      <td id=\"T_51a06_row4_col0\" class=\"data row4 col0\" >0.5909</td>\n",
       "      <td id=\"T_51a06_row4_col1\" class=\"data row4 col1\" >0.5000</td>\n",
       "      <td id=\"T_51a06_row4_col2\" class=\"data row4 col2\" >0.3316</td>\n",
       "      <td id=\"T_51a06_row4_col3\" class=\"data row4 col3\" >0.6377</td>\n",
       "      <td id=\"T_51a06_row4_col4\" class=\"data row4 col4\" >0.4363</td>\n",
       "      <td id=\"T_51a06_row4_col5\" class=\"data row4 col5\" >0.1628</td>\n",
       "      <td id=\"T_51a06_row4_col6\" class=\"data row4 col6\" >0.1843</td>\n",
       "    </tr>\n",
       "    <tr>\n",
       "      <th id=\"T_51a06_level0_row5\" class=\"row_heading level0 row5\" >5</th>\n",
       "      <td id=\"T_51a06_row5_col0\" class=\"data row5 col0\" >0.6007</td>\n",
       "      <td id=\"T_51a06_row5_col1\" class=\"data row5 col1\" >0.5000</td>\n",
       "      <td id=\"T_51a06_row5_col2\" class=\"data row5 col2\" >0.3316</td>\n",
       "      <td id=\"T_51a06_row5_col3\" class=\"data row5 col3\" >0.6641</td>\n",
       "      <td id=\"T_51a06_row5_col4\" class=\"data row5 col4\" >0.4423</td>\n",
       "      <td id=\"T_51a06_row5_col5\" class=\"data row5 col5\" >0.1822</td>\n",
       "      <td id=\"T_51a06_row5_col6\" class=\"data row5 col6\" >0.2090</td>\n",
       "    </tr>\n",
       "    <tr>\n",
       "      <th id=\"T_51a06_level0_row6\" class=\"row_heading level0 row6\" >6</th>\n",
       "      <td id=\"T_51a06_row6_col0\" class=\"data row6 col0\" >0.5816</td>\n",
       "      <td id=\"T_51a06_row6_col1\" class=\"data row6 col1\" >0.5000</td>\n",
       "      <td id=\"T_51a06_row6_col2\" class=\"data row6 col2\" >0.3643</td>\n",
       "      <td id=\"T_51a06_row6_col3\" class=\"data row6 col3\" >0.6013</td>\n",
       "      <td id=\"T_51a06_row6_col4\" class=\"data row6 col4\" >0.4537</td>\n",
       "      <td id=\"T_51a06_row6_col5\" class=\"data row6 col5\" >0.1466</td>\n",
       "      <td id=\"T_51a06_row6_col6\" class=\"data row6 col6\" >0.1588</td>\n",
       "    </tr>\n",
       "    <tr>\n",
       "      <th id=\"T_51a06_level0_row7\" class=\"row_heading level0 row7\" >7</th>\n",
       "      <td id=\"T_51a06_row7_col0\" class=\"data row7 col0\" >0.5909</td>\n",
       "      <td id=\"T_51a06_row7_col1\" class=\"data row7 col1\" >0.5000</td>\n",
       "      <td id=\"T_51a06_row7_col2\" class=\"data row7 col2\" >0.3618</td>\n",
       "      <td id=\"T_51a06_row7_col3\" class=\"data row7 col3\" >0.6222</td>\n",
       "      <td id=\"T_51a06_row7_col4\" class=\"data row7 col4\" >0.4575</td>\n",
       "      <td id=\"T_51a06_row7_col5\" class=\"data row7 col5\" >0.1646</td>\n",
       "      <td id=\"T_51a06_row7_col6\" class=\"data row7 col6\" >0.1802</td>\n",
       "    </tr>\n",
       "    <tr>\n",
       "      <th id=\"T_51a06_level0_row8\" class=\"row_heading level0 row8\" >8</th>\n",
       "      <td id=\"T_51a06_row8_col0\" class=\"data row8 col0\" >0.6221</td>\n",
       "      <td id=\"T_51a06_row8_col1\" class=\"data row8 col1\" >0.5000</td>\n",
       "      <td id=\"T_51a06_row8_col2\" class=\"data row8 col2\" >0.3630</td>\n",
       "      <td id=\"T_51a06_row8_col3\" class=\"data row8 col3\" >0.7007</td>\n",
       "      <td id=\"T_51a06_row8_col4\" class=\"data row8 col4\" >0.4783</td>\n",
       "      <td id=\"T_51a06_row8_col5\" class=\"data row8 col5\" >0.2263</td>\n",
       "      <td id=\"T_51a06_row8_col6\" class=\"data row8 col6\" >0.2565</td>\n",
       "    </tr>\n",
       "    <tr>\n",
       "      <th id=\"T_51a06_level0_row9\" class=\"row_heading level0 row9\" >9</th>\n",
       "      <td id=\"T_51a06_row9_col0\" class=\"data row9 col0\" >0.5900</td>\n",
       "      <td id=\"T_51a06_row9_col1\" class=\"data row9 col1\" >0.5000</td>\n",
       "      <td id=\"T_51a06_row9_col2\" class=\"data row9 col2\" >0.3488</td>\n",
       "      <td id=\"T_51a06_row9_col3\" class=\"data row9 col3\" >0.6265</td>\n",
       "      <td id=\"T_51a06_row9_col4\" class=\"data row9 col4\" >0.4481</td>\n",
       "      <td id=\"T_51a06_row9_col5\" class=\"data row9 col5\" >0.1621</td>\n",
       "      <td id=\"T_51a06_row9_col6\" class=\"data row9 col6\" >0.1798</td>\n",
       "    </tr>\n",
       "    <tr>\n",
       "      <th id=\"T_51a06_level0_row10\" class=\"row_heading level0 row10\" >Mean</th>\n",
       "      <td id=\"T_51a06_row10_col0\" class=\"data row10 col0\" >0.5911</td>\n",
       "      <td id=\"T_51a06_row10_col1\" class=\"data row10 col1\" >0.5000</td>\n",
       "      <td id=\"T_51a06_row10_col2\" class=\"data row10 col2\" >0.3395</td>\n",
       "      <td id=\"T_51a06_row10_col3\" class=\"data row10 col3\" >0.6349</td>\n",
       "      <td id=\"T_51a06_row10_col4\" class=\"data row10 col4\" >0.4421</td>\n",
       "      <td id=\"T_51a06_row10_col5\" class=\"data row10 col5\" >0.1638</td>\n",
       "      <td id=\"T_51a06_row10_col6\" class=\"data row10 col6\" >0.1841</td>\n",
       "    </tr>\n",
       "    <tr>\n",
       "      <th id=\"T_51a06_level0_row11\" class=\"row_heading level0 row11\" >Std</th>\n",
       "      <td id=\"T_51a06_row11_col0\" class=\"data row11 col0\" >0.0134</td>\n",
       "      <td id=\"T_51a06_row11_col1\" class=\"data row11 col1\" >0.0000</td>\n",
       "      <td id=\"T_51a06_row11_col2\" class=\"data row11 col2\" >0.0175</td>\n",
       "      <td id=\"T_51a06_row11_col3\" class=\"data row11 col3\" >0.0306</td>\n",
       "      <td id=\"T_51a06_row11_col4\" class=\"data row11 col4\" >0.0181</td>\n",
       "      <td id=\"T_51a06_row11_col5\" class=\"data row11 col5\" >0.0271</td>\n",
       "      <td id=\"T_51a06_row11_col6\" class=\"data row11 col6\" >0.0318</td>\n",
       "    </tr>\n",
       "  </tbody>\n",
       "</table>\n"
      ],
      "text/plain": [
       "<pandas.io.formats.style.Styler at 0x232ae560640>"
      ]
     },
     "metadata": {},
     "output_type": "display_data"
    },
    {
     "data": {
      "text/html": [],
      "text/plain": [
       "<IPython.core.display.HTML object>"
      ]
     },
     "metadata": {},
     "output_type": "display_data"
    },
    {
     "name": "stdout",
     "output_type": "stream",
     "text": [
      "Fitting 10 folds for each of 4 candidates, totalling 40 fits\n",
      "Original model was better than the tuned model, hence it will be returned. NOTE: The display metrics are for the tuned model (not the original one).\n"
     ]
    },
    {
     "data": {
      "text/html": [
       "<style type=\"text/css\">\n",
       "</style>\n",
       "<table id=\"T_da546\">\n",
       "  <thead>\n",
       "    <tr>\n",
       "      <th class=\"blank level0\" >&nbsp;</th>\n",
       "      <th id=\"T_da546_level0_col0\" class=\"col_heading level0 col0\" >Model</th>\n",
       "      <th id=\"T_da546_level0_col1\" class=\"col_heading level0 col1\" >Accuracy</th>\n",
       "      <th id=\"T_da546_level0_col2\" class=\"col_heading level0 col2\" >AUC</th>\n",
       "      <th id=\"T_da546_level0_col3\" class=\"col_heading level0 col3\" >Recall</th>\n",
       "      <th id=\"T_da546_level0_col4\" class=\"col_heading level0 col4\" >Prec.</th>\n",
       "      <th id=\"T_da546_level0_col5\" class=\"col_heading level0 col5\" >F1</th>\n",
       "      <th id=\"T_da546_level0_col6\" class=\"col_heading level0 col6\" >Kappa</th>\n",
       "      <th id=\"T_da546_level0_col7\" class=\"col_heading level0 col7\" >MCC</th>\n",
       "    </tr>\n",
       "  </thead>\n",
       "  <tbody>\n",
       "    <tr>\n",
       "      <th id=\"T_da546_level0_row0\" class=\"row_heading level0 row0\" >0</th>\n",
       "      <td id=\"T_da546_row0_col0\" class=\"data row0 col0\" >Decision Tree Classifier</td>\n",
       "      <td id=\"T_da546_row0_col1\" class=\"data row0 col1\" >0.5356</td>\n",
       "      <td id=\"T_da546_row0_col2\" class=\"data row0 col2\" >0.5181</td>\n",
       "      <td id=\"T_da546_row0_col3\" class=\"data row0 col3\" >0.5658</td>\n",
       "      <td id=\"T_da546_row0_col4\" class=\"data row0 col4\" >0.5124</td>\n",
       "      <td id=\"T_da546_row0_col5\" class=\"data row0 col5\" >0.5378</td>\n",
       "      <td id=\"T_da546_row0_col6\" class=\"data row0 col6\" >0.0735</td>\n",
       "      <td id=\"T_da546_row0_col7\" class=\"data row0 col7\" >0.0739</td>\n",
       "    </tr>\n",
       "  </tbody>\n",
       "</table>\n"
      ],
      "text/plain": [
       "<pandas.io.formats.style.Styler at 0x232ae561150>"
      ]
     },
     "metadata": {},
     "output_type": "display_data"
    },
    {
     "name": "stdout",
     "output_type": "stream",
     "text": [
      "Transformation Pipeline and Model Successfully Saved\n",
      "Transformation Pipeline and Model Successfully Loaded\n"
     ]
    },
    {
     "name": "stderr",
     "output_type": "stream",
     "text": [
      "Registered model 'model_kobe' already exists. Creating a new version of this model...\n",
      "Created version '2' of model 'model_kobe'.\n"
     ]
    },
    {
     "data": {
      "image/png": "[encoded data removed]",
      "text/plain": [
       "<Figure size 600x400 with 1 Axes>"
      ]
     },
     "metadata": {},
     "output_type": "display_data"
    },
    {
     "data": {
      "image/png": "[encoded data removed]",
      "text/plain": [
       "<Figure size 600x400 with 1 Axes>"
      ]
     },
     "metadata": {},
     "output_type": "display_data"
    }
   ],
   "source": [
    "import os\n",
    "from sklearn.metrics import log_loss, f1_score\n",
    "\n",
    "registered_model_name = 'model_kobe'\n",
    "nexamples = 5\n",
    "model_version = -1\n",
    "\n",
    "with mlflow.start_run(experiment_id=experiment_id, run_name = 'Treinamento'):\n",
    "  \n",
    "    exp = pc.setup(\n",
    "        data=xtrain,\n",
    "        target = 'shot_distance',\n",
    "        test_data = xtest,\n",
    "        normalize=True,\n",
    "        log_experiment = False\n",
    "    )\n",
    "    list_models = exp.compare_models(['lr','dt'], n_select=2, sort='f1')\n",
    "\n",
    "    # REGRESSAO\n",
    "    # exp.plot_model(list_models[0], plot='vc', save = True)\n",
    "    yhat_test = exp.predict_model(list_models[1])\n",
    "    plot_parameter_validation_curve(xtrain.drop('shot_distance', axis=1), ytrain, 'C', {'C': [0.001, 0.01, 0.1, 1, 10]},\n",
    "                                        list_models[1], 'Regressão Logística', 'f1', logx=True)\n",
    "    plt.savefig('lr_validation_curve.png')\n",
    "    mlflow.log_artifact('lr_validation_curve.png')\n",
    "    # os.remove('lr_validation_curve.png')\n",
    "    \n",
    "    mlflow.log_metrics({\n",
    "        'lr_log_loss': log_loss(yhat_test.shot_distance, yhat_test.prediction_label),\n",
    "        'lr_f1': f1_score(yhat_test.shot_distance, yhat_test.prediction_label),\n",
    "    })\n",
    "    \n",
    "    # ARVORE\n",
    "    yhat_test = exp.predict_model(list_models[0])\n",
    "    plot_parameter_validation_curve(xtrain.drop('shot_distance', axis=1), ytrain, 'max_depth', {'max_depth': [2, 3, 4, 5, 6, 7, 8]},\n",
    "                                    list_models[0], 'Árvore Decisão', 'f1', logx=False)\n",
    "    plt.savefig('dt_validation_curve.png')\n",
    "    mlflow.log_artifact('dt_validation_curve.png')\n",
    "    # os.remove('dt_validation_curve.png')\n",
    "\n",
    "    mlflow.log_metrics({\n",
    "        'dt_log_loss': log_loss(yhat_test.shot_distance, yhat_test.prediction_label),\n",
    "        'dt_f1': f1_score(yhat_test.shot_distance, yhat_test.prediction_label),\n",
    "    })\n",
    "    \n",
    "     # FINALIZACAO MELHOR MODELO\n",
    "    tune_model = exp.tune_model(list_models[0],\n",
    "                                optimize = 'f1',\n",
    "                                search_library = 'scikit-learn',\n",
    "                                search_algorithm = 'random',\n",
    "                                n_iter = 4)\n",
    "    yhat_test = exp.predict_model(tune_model, raw_score=True)  \n",
    "    mlflow.log_metrics({\n",
    "        'final_model_log_loss': log_loss(yhat_test.shot_distance, yhat_test.prediction_label),\n",
    "        'final_model_f1': f1_score(yhat_test.shot_distance, yhat_test.prediction_label),\n",
    "    })\n",
    "    yhat_test.to_parquet('D:\\\\repositorios\\\\kobe-dataset\\\\data\\\\processed\\\\prediction_test.parquet')\n",
    "    mlflow.log_artifact('D:\\\\repositorios\\\\kobe-dataset\\\\data\\\\processed\\\\prediction_test.parquet')\n",
    "    \n",
    "    final_model = exp.finalize_model(tune_model)\n",
    "    \n",
    "    # EXPORTACAO PARA LOG E REGISTRO DO MODELO\n",
    "    exp.save_model(final_model, f'./{registered_model_name}') \n",
    "    # Carrega novamente o pipeline + bestmodel\n",
    "    model_pipe = exp.load_model(f'./{registered_model_name}')\n",
    "    # Assinatura do Modelo Inferida pelo MLFlow\n",
    "    model_features = list(xtrain.drop('shot_distance', axis=1).columns)\n",
    "    inf_signature = infer_signature(xtrain[model_features], \n",
    "                                    model_pipe.predict_proba(xtrain.drop('shot_distance', axis=1)))\n",
    "    # Exemplo de entrada para o MLmodel\n",
    "    input_example = {x: xtrain[x].values[:nexamples] for x in model_features}\n",
    "    # Log do pipeline de modelagem do sklearn e registrar como uma nova versao\n",
    "    mlflow.sklearn.log_model(\n",
    "        sk_model=model_pipe,\n",
    "        artifact_path=\"sklearn-model\",\n",
    "        registered_model_name=registered_model_name,\n",
    "        signature = inf_signature,\n",
    "        input_example = input_example,\n",
    "        pyfunc_predict_fn='predict_proba'\n",
    "    )\n",
    "    # Criacao do cliente do servico MLFlow e atualizacao versao modelo\n",
    "    client = MlflowClient()\n",
    "    if model_version == -1:\n",
    "        model_version = client.get_latest_versions(registered_model_name)[-1].version\n",
    "    # Registrar o modelo como staging\n",
    "    client.set_registered_model_alias(\n",
    "        name    = registered_model_name, \n",
    "        alias   = \"staging\", \n",
    "        version = model_version\n",
    "    )"
   ]
  },
  {
   "cell_type": "code",
   "execution_count": null,
   "id": "b708e6fa-860d-4e1c-9b50-3c5087994830",
   "metadata": {},
   "outputs": [],
   "source": []
  }
 ],
 "metadata": {
  "kernelspec": {
   "display_name": "Python 3 (ipykernel)",
   "language": "python",
   "name": "python3"
  },
  "language_info": {
   "codemirror_mode": {
    "name": "ipython",
    "version": 3
   },
   "file_extension": ".py",
   "mimetype": "text/x-python",
   "name": "python",
   "nbconvert_exporter": "python",
   "pygments_lexer": "ipython3",
   "version": "3.10.14"
  },
  "widgets": {
   "application/vnd.jupyter.widget-state+json": {
    "state": {
     "107c8e1c6efd4278a2744c290e1c9066": {
      "model_module": "@jupyter-widgets/controls",
      "model_module_version": "2.0.0",
      "model_name": "HTMLModel",
      "state": {
       "layout": "IPY_MODEL_74ea35930803449a8887f2f25a358843",
       "style": "IPY_MODEL_d110ba825ff14443ad740b7a96878087",
       "value": "Processing: 100%"
      }
     },
     "22dca370bdd04e5baaf93230611fbf21": {
      "model_module": "@jupyter-widgets/base",
      "model_module_version": "2.0.0",
      "model_name": "LayoutModel",
      "state": {
       "visibility": "hidden"
      }
     },
     "29ae1c8e076d4888bc2d818255730a9e": {
      "model_module": "@jupyter-widgets/controls",
      "model_module_version": "2.0.0",
      "model_name": "HTMLModel",
      "state": {
       "layout": "IPY_MODEL_2b4a706a27dd415683b0a20c94dd7018",
       "style": "IPY_MODEL_65917f2e77424f808b118c09e0417f6a",
       "value": "Processing: 100%"
      }
     },
     "2b4a706a27dd415683b0a20c94dd7018": {
      "model_module": "@jupyter-widgets/base",
      "model_module_version": "2.0.0",
      "model_name": "LayoutModel",
      "state": {}
     },
     "32c167000a0d4f669dc4d2c3244de29d": {
      "model_module": "@jupyter-widgets/base",
      "model_module_version": "2.0.0",
      "model_name": "LayoutModel",
      "state": {}
     },
     "34c240c944d248f5bd02a4270428f745": {
      "model_module": "@jupyter-widgets/controls",
      "model_module_version": "2.0.0",
      "model_name": "HTMLStyleModel",
      "state": {
       "description_width": "",
       "font_size": null,
       "text_color": null
      }
     },
     "3f12d63a793646cc843dddff8731d4b8": {
      "model_module": "@jupyter-widgets/controls",
      "model_module_version": "2.0.0",
      "model_name": "HTMLStyleModel",
      "state": {
       "description_width": "",
       "font_size": null,
       "text_color": null
      }
     },
     "4720010de98b442591f35440b1d1a507": {
      "model_module": "@jupyter-widgets/controls",
      "model_module_version": "2.0.0",
      "model_name": "FloatProgressModel",
      "state": {
       "layout": "IPY_MODEL_f6035b3c3dd3446db2f8d1ba4891516d",
       "max": 14,
       "style": "IPY_MODEL_f065153214ff4e839dd7124130c3c8d3",
       "value": 14
      }
     },
     "65917f2e77424f808b118c09e0417f6a": {
      "model_module": "@jupyter-widgets/controls",
      "model_module_version": "2.0.0",
      "model_name": "HTMLStyleModel",
      "state": {
       "description_width": "",
       "font_size": null,
       "text_color": null
      }
     },
     "66495de955704b0682c53527604f17ce": {
      "model_module": "@jupyter-widgets/controls",
      "model_module_version": "2.0.0",
      "model_name": "HTMLModel",
      "state": {
       "layout": "IPY_MODEL_d33f2f39b4664108814212de5c4175f6",
       "style": "IPY_MODEL_34c240c944d248f5bd02a4270428f745",
       "value": " 14/14 [00:07&lt;00:00,  2.88it/s]"
      }
     },
     "74ea35930803449a8887f2f25a358843": {
      "model_module": "@jupyter-widgets/base",
      "model_module_version": "2.0.0",
      "model_name": "LayoutModel",
      "state": {}
     },
     "75cd231a5e7241b288eee0ffc9e992f1": {
      "model_module": "@jupyter-widgets/controls",
      "model_module_version": "2.0.0",
      "model_name": "HTMLModel",
      "state": {
       "layout": "IPY_MODEL_32c167000a0d4f669dc4d2c3244de29d",
       "style": "IPY_MODEL_3f12d63a793646cc843dddff8731d4b8",
       "value": " 14/14 [00:09&lt;00:00,  2.55it/s]"
      }
     },
     "7a2898d91967471e9d95cfd9d5f0b873": {
      "model_module": "@jupyter-widgets/controls",
      "model_module_version": "2.0.0",
      "model_name": "ProgressStyleModel",
      "state": {
       "description_width": ""
      }
     },
     "826659aaeb74458fb88188fdbf3dfc51": {
      "model_module": "@jupyter-widgets/controls",
      "model_module_version": "2.0.0",
      "model_name": "FloatProgressModel",
      "state": {
       "layout": "IPY_MODEL_855b4bed21f2427d9db8baa6aa75d5c9",
       "max": 14,
       "style": "IPY_MODEL_7a2898d91967471e9d95cfd9d5f0b873",
       "value": 14
      }
     },
     "855b4bed21f2427d9db8baa6aa75d5c9": {
      "model_module": "@jupyter-widgets/base",
      "model_module_version": "2.0.0",
      "model_name": "LayoutModel",
      "state": {}
     },
     "d110ba825ff14443ad740b7a96878087": {
      "model_module": "@jupyter-widgets/controls",
      "model_module_version": "2.0.0",
      "model_name": "HTMLStyleModel",
      "state": {
       "description_width": "",
       "font_size": null,
       "text_color": null
      }
     },
     "d33f2f39b4664108814212de5c4175f6": {
      "model_module": "@jupyter-widgets/base",
      "model_module_version": "2.0.0",
      "model_name": "LayoutModel",
      "state": {}
     },
     "d9ac9c2bf36e4f57848c047114340207": {
      "model_module": "@jupyter-widgets/base",
      "model_module_version": "2.0.0",
      "model_name": "LayoutModel",
      "state": {
       "visibility": "hidden"
      }
     },
     "f065153214ff4e839dd7124130c3c8d3": {
      "model_module": "@jupyter-widgets/controls",
      "model_module_version": "2.0.0",
      "model_name": "ProgressStyleModel",
      "state": {
       "description_width": ""
      }
     },
     "f6035b3c3dd3446db2f8d1ba4891516d": {
      "model_module": "@jupyter-widgets/base",
      "model_module_version": "2.0.0",
      "model_name": "LayoutModel",
      "state": {}
     }
    },
    "version_major": 2,
    "version_minor": 0
   }
  }
 },
 "nbformat": 4,
 "nbformat_minor": 5
}
