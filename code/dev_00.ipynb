{
 "cells": [
  {
   "cell_type": "code",
   "execution_count": 149,
   "id": "1796c835-d374-4dc3-a1b6-ac0603285ed3",
   "metadata": {},
   "outputs": [],
   "source": [
    "import pandas as pd\n",
    "import numpy as np\n",
    "import pycaret.classification as pc\n",
    "import matplotlib.pyplot as plt\n",
    "import mlflow"
   ]
  },
  {
   "cell_type": "code",
   "execution_count": 150,
   "id": "11d1c07b-4bf2-4e5f-9f39-254d497e00ae",
   "metadata": {},
   "outputs": [],
   "source": [
    "# Configurar mlflow\n",
    "mlflow.set_tracking_uri(\"sqlite:///mlruns.db\")\n",
    "\n",
    "experiment_name = 'Projeto Kobe'\n",
    "experiment = mlflow.get_experiment_by_name(experiment_name)\n",
    "if experiment is None:\n",
    "    experiment_id = mlflow.create_experiment(experiment_name)\n",
    "    experiment = mlflow.get_experiment(experiment_id)\n",
    "experiment_id = experiment.experiment_id"
   ]
  },
  {
   "cell_type": "code",
   "execution_count": 151,
   "id": "60fad89b-8f2d-4829-91cd-3db5a345d3cf",
   "metadata": {},
   "outputs": [
    {
     "name": "stdout",
     "output_type": "stream",
     "text": [
      "<class 'pandas.core.frame.DataFrame'>\n",
      "Index: 24271 entries, 0 to 30696\n",
      "Data columns (total 25 columns):\n",
      " #   Column              Non-Null Count  Dtype  \n",
      "---  ------              --------------  -----  \n",
      " 0   action_type         24271 non-null  object \n",
      " 1   combined_shot_type  24271 non-null  object \n",
      " 2   game_event_id       24271 non-null  int64  \n",
      " 3   game_id             24271 non-null  int64  \n",
      " 4   lat                 24271 non-null  float64\n",
      " 5   loc_x               24271 non-null  int64  \n",
      " 6   loc_y               24271 non-null  int64  \n",
      " 7   lon                 24271 non-null  float64\n",
      " 8   minutes_remaining   24271 non-null  int64  \n",
      " 9   period              24271 non-null  int64  \n",
      " 10  playoffs            24271 non-null  int64  \n",
      " 11  season              24271 non-null  object \n",
      " 12  seconds_remaining   24271 non-null  int64  \n",
      " 13  shot_distance       24271 non-null  int64  \n",
      " 14  shot_made_flag      20285 non-null  float64\n",
      " 15  shot_type           24271 non-null  object \n",
      " 16  shot_zone_area      24271 non-null  object \n",
      " 17  shot_zone_basic     24271 non-null  object \n",
      " 18  shot_zone_range     24271 non-null  object \n",
      " 19  team_id             24271 non-null  int64  \n",
      " 20  team_name           24271 non-null  object \n",
      " 21  game_date           24271 non-null  object \n",
      " 22  matchup             24271 non-null  object \n",
      " 23  opponent            24271 non-null  object \n",
      " 24  shot_id             24271 non-null  int64  \n",
      "dtypes: float64(3), int64(11), object(11)\n",
      "memory usage: 4.8+ MB\n"
     ]
    }
   ],
   "source": [
    "df_dev = pd.read_parquet('D:\\\\infnet\\\\engenharia_ml\\\\kobe_dataset\\\\data\\\\raw\\\\dataset_kobe_dev.parquet')\n",
    "data_cols = ['lat','lon','minutes_remaining','period','playoffs','shot_distance','shot_made_flag']\n",
    "df_dev.info()"
   ]
  },
  {
   "cell_type": "code",
   "execution_count": 152,
   "id": "7d1f6d3a-3dbc-4942-b0fe-3a11b4ebda3c",
   "metadata": {},
   "outputs": [
    {
     "data": {
      "text/html": [
       "<div>\n",
       "<style scoped>\n",
       "    .dataframe tbody tr th:only-of-type {\n",
       "        vertical-align: middle;\n",
       "    }\n",
       "\n",
       "    .dataframe tbody tr th {\n",
       "        vertical-align: top;\n",
       "    }\n",
       "\n",
       "    .dataframe thead th {\n",
       "        text-align: right;\n",
       "    }\n",
       "</style>\n",
       "<table border=\"1\" class=\"dataframe\">\n",
       "  <thead>\n",
       "    <tr style=\"text-align: right;\">\n",
       "      <th></th>\n",
       "      <th>lat</th>\n",
       "      <th>lon</th>\n",
       "      <th>minutes_remaining</th>\n",
       "      <th>period</th>\n",
       "      <th>playoffs</th>\n",
       "      <th>shot_distance</th>\n",
       "      <th>shot_made_flag</th>\n",
       "    </tr>\n",
       "  </thead>\n",
       "  <tbody>\n",
       "    <tr>\n",
       "      <th>0</th>\n",
       "      <td>33.9723</td>\n",
       "      <td>-118.1028</td>\n",
       "      <td>10</td>\n",
       "      <td>1</td>\n",
       "      <td>0</td>\n",
       "      <td>18</td>\n",
       "      <td>NaN</td>\n",
       "    </tr>\n",
       "    <tr>\n",
       "      <th>1</th>\n",
       "      <td>34.0443</td>\n",
       "      <td>-118.4268</td>\n",
       "      <td>10</td>\n",
       "      <td>1</td>\n",
       "      <td>0</td>\n",
       "      <td>15</td>\n",
       "      <td>0.0</td>\n",
       "    </tr>\n",
       "    <tr>\n",
       "      <th>2</th>\n",
       "      <td>33.9093</td>\n",
       "      <td>-118.3708</td>\n",
       "      <td>7</td>\n",
       "      <td>1</td>\n",
       "      <td>0</td>\n",
       "      <td>16</td>\n",
       "      <td>1.0</td>\n",
       "    </tr>\n",
       "    <tr>\n",
       "      <th>3</th>\n",
       "      <td>33.8693</td>\n",
       "      <td>-118.1318</td>\n",
       "      <td>6</td>\n",
       "      <td>1</td>\n",
       "      <td>0</td>\n",
       "      <td>22</td>\n",
       "      <td>0.0</td>\n",
       "    </tr>\n",
       "    <tr>\n",
       "      <th>4</th>\n",
       "      <td>34.0443</td>\n",
       "      <td>-118.2698</td>\n",
       "      <td>6</td>\n",
       "      <td>2</td>\n",
       "      <td>0</td>\n",
       "      <td>0</td>\n",
       "      <td>1.0</td>\n",
       "    </tr>\n",
       "  </tbody>\n",
       "</table>\n",
       "</div>"
      ],
      "text/plain": [
       "       lat       lon  minutes_remaining  period  playoffs  shot_distance  \\\n",
       "0  33.9723 -118.1028                 10       1         0             18   \n",
       "1  34.0443 -118.4268                 10       1         0             15   \n",
       "2  33.9093 -118.3708                  7       1         0             16   \n",
       "3  33.8693 -118.1318                  6       1         0             22   \n",
       "4  34.0443 -118.2698                  6       2         0              0   \n",
       "\n",
       "   shot_made_flag  \n",
       "0             NaN  \n",
       "1             0.0  \n",
       "2             1.0  \n",
       "3             0.0  \n",
       "4             1.0  "
      ]
     },
     "execution_count": 152,
     "metadata": {},
     "output_type": "execute_result"
    }
   ],
   "source": [
    "df_dev = df_dev[data_cols]\n",
    "df_dev.head()"
   ]
  },
  {
   "cell_type": "code",
   "execution_count": 153,
   "id": "07bfdc15-6d78-4231-93ca-ffc01cd5baaa",
   "metadata": {},
   "outputs": [],
   "source": [
    "df_dev.dropna(inplace=True)"
   ]
  },
  {
   "cell_type": "code",
   "execution_count": 154,
   "id": "91d1f94e-201c-4584-acb1-47b93f21f6fb",
   "metadata": {},
   "outputs": [
    {
     "data": {
      "text/plain": [
       "(20285, 7)"
      ]
     },
     "execution_count": 154,
     "metadata": {},
     "output_type": "execute_result"
    }
   ],
   "source": [
    "df_dev.shape"
   ]
  },
  {
   "cell_type": "code",
   "execution_count": 155,
   "id": "64438b9b-4473-417e-b858-4b58b9c6504d",
   "metadata": {},
   "outputs": [
    {
     "data": {
      "text/html": [
       "<div>\n",
       "<style scoped>\n",
       "    .dataframe tbody tr th:only-of-type {\n",
       "        vertical-align: middle;\n",
       "    }\n",
       "\n",
       "    .dataframe tbody tr th {\n",
       "        vertical-align: top;\n",
       "    }\n",
       "\n",
       "    .dataframe thead th {\n",
       "        text-align: right;\n",
       "    }\n",
       "</style>\n",
       "<table border=\"1\" class=\"dataframe\">\n",
       "  <thead>\n",
       "    <tr style=\"text-align: right;\">\n",
       "      <th></th>\n",
       "      <th>lat</th>\n",
       "      <th>lon</th>\n",
       "      <th>minutes_remaining</th>\n",
       "      <th>period</th>\n",
       "      <th>playoffs</th>\n",
       "      <th>shot_distance</th>\n",
       "      <th>shot_made_flag</th>\n",
       "    </tr>\n",
       "  </thead>\n",
       "  <tbody>\n",
       "    <tr>\n",
       "      <th>1</th>\n",
       "      <td>34.0443</td>\n",
       "      <td>-118.4268</td>\n",
       "      <td>10</td>\n",
       "      <td>1</td>\n",
       "      <td>0</td>\n",
       "      <td>15</td>\n",
       "      <td>0.0</td>\n",
       "    </tr>\n",
       "    <tr>\n",
       "      <th>2</th>\n",
       "      <td>33.9093</td>\n",
       "      <td>-118.3708</td>\n",
       "      <td>7</td>\n",
       "      <td>1</td>\n",
       "      <td>0</td>\n",
       "      <td>16</td>\n",
       "      <td>1.0</td>\n",
       "    </tr>\n",
       "    <tr>\n",
       "      <th>3</th>\n",
       "      <td>33.8693</td>\n",
       "      <td>-118.1318</td>\n",
       "      <td>6</td>\n",
       "      <td>1</td>\n",
       "      <td>0</td>\n",
       "      <td>22</td>\n",
       "      <td>0.0</td>\n",
       "    </tr>\n",
       "    <tr>\n",
       "      <th>4</th>\n",
       "      <td>34.0443</td>\n",
       "      <td>-118.2698</td>\n",
       "      <td>6</td>\n",
       "      <td>2</td>\n",
       "      <td>0</td>\n",
       "      <td>0</td>\n",
       "      <td>1.0</td>\n",
       "    </tr>\n",
       "    <tr>\n",
       "      <th>5</th>\n",
       "      <td>34.0553</td>\n",
       "      <td>-118.4148</td>\n",
       "      <td>9</td>\n",
       "      <td>3</td>\n",
       "      <td>0</td>\n",
       "      <td>14</td>\n",
       "      <td>0.0</td>\n",
       "    </tr>\n",
       "  </tbody>\n",
       "</table>\n",
       "</div>"
      ],
      "text/plain": [
       "       lat       lon  minutes_remaining  period  playoffs  shot_distance  \\\n",
       "1  34.0443 -118.4268                 10       1         0             15   \n",
       "2  33.9093 -118.3708                  7       1         0             16   \n",
       "3  33.8693 -118.1318                  6       1         0             22   \n",
       "4  34.0443 -118.2698                  6       2         0              0   \n",
       "5  34.0553 -118.4148                  9       3         0             14   \n",
       "\n",
       "   shot_made_flag  \n",
       "1             0.0  \n",
       "2             1.0  \n",
       "3             0.0  \n",
       "4             1.0  \n",
       "5             0.0  "
      ]
     },
     "execution_count": 155,
     "metadata": {},
     "output_type": "execute_result"
    }
   ],
   "source": [
    "df_dev.head()"
   ]
  },
  {
   "cell_type": "code",
   "execution_count": 165,
   "id": "6f67e370-e333-43aa-813e-0fcf7408a7c4",
   "metadata": {},
   "outputs": [],
   "source": [
    "from sklearn.model_selection import train_test_split\n",
    "# Criar fluxo mlflow\n",
    "# executa mlflow.db -> mlflow ui --backend-store-uri sqlite///mlruns.db\n",
    "with mlflow.start_run(experiment_id=experiment_id,run_name='PreparacaoDados'):\n",
    "    df_dev=df_dev[data_cols].copy()\n",
    "    train_perc = 0.8\n",
    "\n",
    "    xtrain, xtest, ytrain, ytest = train_test_split(\n",
    "        df_dev[['lat','lon','minutes_remaining','period','playoffs','shot_distance']],\n",
    "        df_dev['shot_made_flag'],\n",
    "        train_size = train_perc,\n",
    "        stratify=df_dev['shot_made_flag']\n",
    "    )\n",
    "    \n",
    "    xtrain['shot_distance'] = ytrain\n",
    "    xtest['shot_distance'] = ytest\n",
    "    \n",
    "    xtrain.to_parquet(\"D:\\\\infnet\\\\engenharia_ml\\\\kobe_dataset\\\\data\\\\processed\\\\base_train.parquet\")\n",
    "    xtest.to_parquet(\"D:\\\\infnet\\\\engenharia_ml\\\\kobe_dataset\\\\data\\\\processed\\\\base_test.parquet\")\n",
    "    \n",
    "    df_dev.to_parquet(\"D:\\\\infnet\\\\engenharia_ml\\\\kobe_dataset\\\\data\\\\processed\\\\data_filtered.parquet\")\n",
    "\n",
    "    mlflow.log_params({\n",
    "        'perc_test': 1-train_perc,\n",
    "        'colunas_filtro': data_cols\n",
    "    })\n",
    "    mlflow.log_metrics({\n",
    "        'treino': xtrain.shape[0],\n",
    "        'teste': xtest.shape[0]\n",
    "        })"
   ]
  },
  {
   "cell_type": "code",
   "execution_count": 169,
   "id": "5443f53f-ede1-4c17-a494-191277b72753",
   "metadata": {},
   "outputs": [
    {
     "data": {
      "text/html": [
       "<style type=\"text/css\">\n",
       "#T_c2f72_row8_col1, #T_c2f72_row12_col1 {\n",
       "  background-color: lightgreen;\n",
       "}\n",
       "</style>\n",
       "<table id=\"T_c2f72\">\n",
       "  <thead>\n",
       "    <tr>\n",
       "      <th class=\"blank level0\" >&nbsp;</th>\n",
       "      <th id=\"T_c2f72_level0_col0\" class=\"col_heading level0 col0\" >Description</th>\n",
       "      <th id=\"T_c2f72_level0_col1\" class=\"col_heading level0 col1\" >Value</th>\n",
       "    </tr>\n",
       "  </thead>\n",
       "  <tbody>\n",
       "    <tr>\n",
       "      <th id=\"T_c2f72_level0_row0\" class=\"row_heading level0 row0\" >0</th>\n",
       "      <td id=\"T_c2f72_row0_col0\" class=\"data row0 col0\" >Session id</td>\n",
       "      <td id=\"T_c2f72_row0_col1\" class=\"data row0 col1\" >3778</td>\n",
       "    </tr>\n",
       "    <tr>\n",
       "      <th id=\"T_c2f72_level0_row1\" class=\"row_heading level0 row1\" >1</th>\n",
       "      <td id=\"T_c2f72_row1_col0\" class=\"data row1 col0\" >Target</td>\n",
       "      <td id=\"T_c2f72_row1_col1\" class=\"data row1 col1\" >shot_distance</td>\n",
       "    </tr>\n",
       "    <tr>\n",
       "      <th id=\"T_c2f72_level0_row2\" class=\"row_heading level0 row2\" >2</th>\n",
       "      <td id=\"T_c2f72_row2_col0\" class=\"data row2 col0\" >Target type</td>\n",
       "      <td id=\"T_c2f72_row2_col1\" class=\"data row2 col1\" >Binary</td>\n",
       "    </tr>\n",
       "    <tr>\n",
       "      <th id=\"T_c2f72_level0_row3\" class=\"row_heading level0 row3\" >3</th>\n",
       "      <td id=\"T_c2f72_row3_col0\" class=\"data row3 col0\" >Original data shape</td>\n",
       "      <td id=\"T_c2f72_row3_col1\" class=\"data row3 col1\" >(20285, 6)</td>\n",
       "    </tr>\n",
       "    <tr>\n",
       "      <th id=\"T_c2f72_level0_row4\" class=\"row_heading level0 row4\" >4</th>\n",
       "      <td id=\"T_c2f72_row4_col0\" class=\"data row4 col0\" >Transformed data shape</td>\n",
       "      <td id=\"T_c2f72_row4_col1\" class=\"data row4 col1\" >(20285, 6)</td>\n",
       "    </tr>\n",
       "    <tr>\n",
       "      <th id=\"T_c2f72_level0_row5\" class=\"row_heading level0 row5\" >5</th>\n",
       "      <td id=\"T_c2f72_row5_col0\" class=\"data row5 col0\" >Transformed train set shape</td>\n",
       "      <td id=\"T_c2f72_row5_col1\" class=\"data row5 col1\" >(16228, 6)</td>\n",
       "    </tr>\n",
       "    <tr>\n",
       "      <th id=\"T_c2f72_level0_row6\" class=\"row_heading level0 row6\" >6</th>\n",
       "      <td id=\"T_c2f72_row6_col0\" class=\"data row6 col0\" >Transformed test set shape</td>\n",
       "      <td id=\"T_c2f72_row6_col1\" class=\"data row6 col1\" >(4057, 6)</td>\n",
       "    </tr>\n",
       "    <tr>\n",
       "      <th id=\"T_c2f72_level0_row7\" class=\"row_heading level0 row7\" >7</th>\n",
       "      <td id=\"T_c2f72_row7_col0\" class=\"data row7 col0\" >Numeric features</td>\n",
       "      <td id=\"T_c2f72_row7_col1\" class=\"data row7 col1\" >5</td>\n",
       "    </tr>\n",
       "    <tr>\n",
       "      <th id=\"T_c2f72_level0_row8\" class=\"row_heading level0 row8\" >8</th>\n",
       "      <td id=\"T_c2f72_row8_col0\" class=\"data row8 col0\" >Preprocess</td>\n",
       "      <td id=\"T_c2f72_row8_col1\" class=\"data row8 col1\" >True</td>\n",
       "    </tr>\n",
       "    <tr>\n",
       "      <th id=\"T_c2f72_level0_row9\" class=\"row_heading level0 row9\" >9</th>\n",
       "      <td id=\"T_c2f72_row9_col0\" class=\"data row9 col0\" >Imputation type</td>\n",
       "      <td id=\"T_c2f72_row9_col1\" class=\"data row9 col1\" >simple</td>\n",
       "    </tr>\n",
       "    <tr>\n",
       "      <th id=\"T_c2f72_level0_row10\" class=\"row_heading level0 row10\" >10</th>\n",
       "      <td id=\"T_c2f72_row10_col0\" class=\"data row10 col0\" >Numeric imputation</td>\n",
       "      <td id=\"T_c2f72_row10_col1\" class=\"data row10 col1\" >mean</td>\n",
       "    </tr>\n",
       "    <tr>\n",
       "      <th id=\"T_c2f72_level0_row11\" class=\"row_heading level0 row11\" >11</th>\n",
       "      <td id=\"T_c2f72_row11_col0\" class=\"data row11 col0\" >Categorical imputation</td>\n",
       "      <td id=\"T_c2f72_row11_col1\" class=\"data row11 col1\" >mode</td>\n",
       "    </tr>\n",
       "    <tr>\n",
       "      <th id=\"T_c2f72_level0_row12\" class=\"row_heading level0 row12\" >12</th>\n",
       "      <td id=\"T_c2f72_row12_col0\" class=\"data row12 col0\" >Normalize</td>\n",
       "      <td id=\"T_c2f72_row12_col1\" class=\"data row12 col1\" >True</td>\n",
       "    </tr>\n",
       "    <tr>\n",
       "      <th id=\"T_c2f72_level0_row13\" class=\"row_heading level0 row13\" >13</th>\n",
       "      <td id=\"T_c2f72_row13_col0\" class=\"data row13 col0\" >Normalize method</td>\n",
       "      <td id=\"T_c2f72_row13_col1\" class=\"data row13 col1\" >zscore</td>\n",
       "    </tr>\n",
       "    <tr>\n",
       "      <th id=\"T_c2f72_level0_row14\" class=\"row_heading level0 row14\" >14</th>\n",
       "      <td id=\"T_c2f72_row14_col0\" class=\"data row14 col0\" >Fold Generator</td>\n",
       "      <td id=\"T_c2f72_row14_col1\" class=\"data row14 col1\" >StratifiedKFold</td>\n",
       "    </tr>\n",
       "    <tr>\n",
       "      <th id=\"T_c2f72_level0_row15\" class=\"row_heading level0 row15\" >15</th>\n",
       "      <td id=\"T_c2f72_row15_col0\" class=\"data row15 col0\" >Fold Number</td>\n",
       "      <td id=\"T_c2f72_row15_col1\" class=\"data row15 col1\" >10</td>\n",
       "    </tr>\n",
       "    <tr>\n",
       "      <th id=\"T_c2f72_level0_row16\" class=\"row_heading level0 row16\" >16</th>\n",
       "      <td id=\"T_c2f72_row16_col0\" class=\"data row16 col0\" >CPU Jobs</td>\n",
       "      <td id=\"T_c2f72_row16_col1\" class=\"data row16 col1\" >-1</td>\n",
       "    </tr>\n",
       "    <tr>\n",
       "      <th id=\"T_c2f72_level0_row17\" class=\"row_heading level0 row17\" >17</th>\n",
       "      <td id=\"T_c2f72_row17_col0\" class=\"data row17 col0\" >Use GPU</td>\n",
       "      <td id=\"T_c2f72_row17_col1\" class=\"data row17 col1\" >False</td>\n",
       "    </tr>\n",
       "    <tr>\n",
       "      <th id=\"T_c2f72_level0_row18\" class=\"row_heading level0 row18\" >18</th>\n",
       "      <td id=\"T_c2f72_row18_col0\" class=\"data row18 col0\" >Log Experiment</td>\n",
       "      <td id=\"T_c2f72_row18_col1\" class=\"data row18 col1\" >False</td>\n",
       "    </tr>\n",
       "    <tr>\n",
       "      <th id=\"T_c2f72_level0_row19\" class=\"row_heading level0 row19\" >19</th>\n",
       "      <td id=\"T_c2f72_row19_col0\" class=\"data row19 col0\" >Experiment Name</td>\n",
       "      <td id=\"T_c2f72_row19_col1\" class=\"data row19 col1\" >clf-default-name</td>\n",
       "    </tr>\n",
       "    <tr>\n",
       "      <th id=\"T_c2f72_level0_row20\" class=\"row_heading level0 row20\" >20</th>\n",
       "      <td id=\"T_c2f72_row20_col0\" class=\"data row20 col0\" >USI</td>\n",
       "      <td id=\"T_c2f72_row20_col1\" class=\"data row20 col1\" >60a9</td>\n",
       "    </tr>\n",
       "  </tbody>\n",
       "</table>\n"
      ],
      "text/plain": [
       "<pandas.io.formats.style.Styler at 0x17e0ebe9330>"
      ]
     },
     "metadata": {},
     "output_type": "display_data"
    },
    {
     "name": "stderr",
     "output_type": "stream",
     "text": [
      "C:\\Users\\eduar\\miniconda3\\envs\\infnet\\lib\\site-packages\\pycaret\\internal\\metrics.py:51: FutureWarning: The `needs_threshold` and `needs_proba` parameter are deprecated in version 1.4 and will be removed in 1.6. You can either let `response_method` be `None` or set it to `predict` to preserve the same behaviour.\n",
      "  warnings.warn(\n"
     ]
    },
    {
     "data": {
      "text/html": [],
      "text/plain": [
       "<IPython.core.display.HTML object>"
      ]
     },
     "metadata": {},
     "output_type": "display_data"
    },
    {
     "data": {
      "text/html": [
       "<style type=\"text/css\">\n",
       "#T_5d342 th {\n",
       "  text-align: left;\n",
       "}\n",
       "#T_5d342_row0_col0, #T_5d342_row0_col1, #T_5d342_row0_col2, #T_5d342_row0_col4, #T_5d342_row0_col6, #T_5d342_row0_col7, #T_5d342_row1_col0, #T_5d342_row1_col3, #T_5d342_row1_col5 {\n",
       "  text-align: left;\n",
       "}\n",
       "#T_5d342_row0_col3, #T_5d342_row0_col5, #T_5d342_row1_col1, #T_5d342_row1_col2, #T_5d342_row1_col4, #T_5d342_row1_col6, #T_5d342_row1_col7 {\n",
       "  text-align: left;\n",
       "  background-color: yellow;\n",
       "}\n",
       "#T_5d342_row0_col8 {\n",
       "  text-align: left;\n",
       "  background-color: yellow;\n",
       "  background-color: lightgrey;\n",
       "}\n",
       "#T_5d342_row1_col8 {\n",
       "  text-align: left;\n",
       "  background-color: lightgrey;\n",
       "}\n",
       "</style>\n",
       "<table id=\"T_5d342\">\n",
       "  <thead>\n",
       "    <tr>\n",
       "      <th class=\"blank level0\" >&nbsp;</th>\n",
       "      <th id=\"T_5d342_level0_col0\" class=\"col_heading level0 col0\" >Model</th>\n",
       "      <th id=\"T_5d342_level0_col1\" class=\"col_heading level0 col1\" >Accuracy</th>\n",
       "      <th id=\"T_5d342_level0_col2\" class=\"col_heading level0 col2\" >AUC</th>\n",
       "      <th id=\"T_5d342_level0_col3\" class=\"col_heading level0 col3\" >Recall</th>\n",
       "      <th id=\"T_5d342_level0_col4\" class=\"col_heading level0 col4\" >Prec.</th>\n",
       "      <th id=\"T_5d342_level0_col5\" class=\"col_heading level0 col5\" >F1</th>\n",
       "      <th id=\"T_5d342_level0_col6\" class=\"col_heading level0 col6\" >Kappa</th>\n",
       "      <th id=\"T_5d342_level0_col7\" class=\"col_heading level0 col7\" >MCC</th>\n",
       "      <th id=\"T_5d342_level0_col8\" class=\"col_heading level0 col8\" >TT (Sec)</th>\n",
       "    </tr>\n",
       "  </thead>\n",
       "  <tbody>\n",
       "    <tr>\n",
       "      <th id=\"T_5d342_level0_row0\" class=\"row_heading level0 row0\" >dt</th>\n",
       "      <td id=\"T_5d342_row0_col0\" class=\"data row0 col0\" >Decision Tree Classifier</td>\n",
       "      <td id=\"T_5d342_row0_col1\" class=\"data row0 col1\" >0.5319</td>\n",
       "      <td id=\"T_5d342_row0_col2\" class=\"data row0 col2\" >0.5017</td>\n",
       "      <td id=\"T_5d342_row0_col3\" class=\"data row0 col3\" >0.5768</td>\n",
       "      <td id=\"T_5d342_row0_col4\" class=\"data row0 col4\" >0.5085</td>\n",
       "      <td id=\"T_5d342_row0_col5\" class=\"data row0 col5\" >0.5404</td>\n",
       "      <td id=\"T_5d342_row0_col6\" class=\"data row0 col6\" >0.0672</td>\n",
       "      <td id=\"T_5d342_row0_col7\" class=\"data row0 col7\" >0.0678</td>\n",
       "      <td id=\"T_5d342_row0_col8\" class=\"data row0 col8\" >0.0260</td>\n",
       "    </tr>\n",
       "    <tr>\n",
       "      <th id=\"T_5d342_level0_row1\" class=\"row_heading level0 row1\" >lr</th>\n",
       "      <td id=\"T_5d342_row1_col0\" class=\"data row1 col0\" >Logistic Regression</td>\n",
       "      <td id=\"T_5d342_row1_col1\" class=\"data row1 col1\" >0.5566</td>\n",
       "      <td id=\"T_5d342_row1_col2\" class=\"data row1 col2\" >0.5669</td>\n",
       "      <td id=\"T_5d342_row1_col3\" class=\"data row1 col3\" >0.5053</td>\n",
       "      <td id=\"T_5d342_row1_col4\" class=\"data row1 col4\" >0.5378</td>\n",
       "      <td id=\"T_5d342_row1_col5\" class=\"data row1 col5\" >0.5210</td>\n",
       "      <td id=\"T_5d342_row1_col6\" class=\"data row1 col6\" >0.1090</td>\n",
       "      <td id=\"T_5d342_row1_col7\" class=\"data row1 col7\" >0.1092</td>\n",
       "      <td id=\"T_5d342_row1_col8\" class=\"data row1 col8\" >0.6410</td>\n",
       "    </tr>\n",
       "  </tbody>\n",
       "</table>\n"
      ],
      "text/plain": [
       "<pandas.io.formats.style.Styler at 0x17e0e668460>"
      ]
     },
     "metadata": {},
     "output_type": "display_data"
    },
    {
     "data": {
      "text/html": [],
      "text/plain": [
       "<IPython.core.display.HTML object>"
      ]
     },
     "metadata": {},
     "output_type": "display_data"
    },
    {
     "name": "stderr",
     "output_type": "stream",
     "text": [
      "C:\\Users\\eduar\\miniconda3\\envs\\infnet\\lib\\site-packages\\pycaret\\internal\\pycaret_experiment\\supervised_experiment.py:323: FutureWarning: Styler.applymap has been deprecated. Use Styler.map instead.\n",
      "  master_display_.apply(\n"
     ]
    },
    {
     "data": {
      "text/plain": [
       "[DecisionTreeClassifier(ccp_alpha=0.0, class_weight=None, criterion='gini',\n",
       "                        max_depth=None, max_features=None, max_leaf_nodes=None,\n",
       "                        min_impurity_decrease=0.0, min_samples_leaf=1,\n",
       "                        min_samples_split=2, min_weight_fraction_leaf=0.0,\n",
       "                        monotonic_cst=None, random_state=3778, splitter='best'),\n",
       " LogisticRegression(C=1.0, class_weight=None, dual=False, fit_intercept=True,\n",
       "                    intercept_scaling=1, l1_ratio=None, max_iter=1000,\n",
       "                    multi_class='auto', n_jobs=None, penalty='l2',\n",
       "                    random_state=3778, solver='lbfgs', tol=0.0001, verbose=0,\n",
       "                    warm_start=False)]"
      ]
     },
     "execution_count": 169,
     "metadata": {},
     "output_type": "execute_result"
    }
   ],
   "source": [
    "# Treinamento\n",
    "exp = pc.setup(\n",
    "    data=xtrain,\n",
    "    target=xtest,\n",
    "    test_data=xtest,\n",
    "    normalize=True,\n",
    "    log_experiment=False\n",
    ")\n",
    "list_models = exp.compare_models(['lr','dt'], n_select=2,sort='f1')\n",
    "list_models"
   ]
  },
  {
   "cell_type": "code",
   "execution_count": 176,
   "id": "b4041874-6fec-4feb-a163-6edb3d2cd3a9",
   "metadata": {},
   "outputs": [
    {
     "data": {
      "text/html": [],
      "text/plain": [
       "<IPython.core.display.HTML object>"
      ]
     },
     "metadata": {},
     "output_type": "display_data"
    },
    {
     "data": {
      "text/html": [],
      "text/plain": [
       "<IPython.core.display.HTML object>"
      ]
     },
     "metadata": {},
     "output_type": "display_data"
    },
    {
     "data": {
      "text/plain": [
       "'Validation Curve.png'"
      ]
     },
     "execution_count": 176,
     "metadata": {},
     "output_type": "execute_result"
    }
   ],
   "source": [
    "def plot_parameter_validation_curve(X,Y,param_name,grid_search,model,model_name_scoring,logx):\n",
    "    print('Parameter:', param_name)\n",
    "    print('GridSearch:', grid_search[param_name])\n",
    "    print('Scoring:', scoring)\n",
    "    plt.figure(figsize=(6,4))\n",
    "    train_scores,test_scores=validation_curve(model,\n",
    "                                             X=X,\n",
    "                                             y=Y,\n",
    "                                             param_name=param_name)"
   ]
  },
  {
   "cell_type": "code",
   "execution_count": 175,
   "id": "63d2a171-de43-479e-97a3-20e676618d7e",
   "metadata": {},
   "outputs": [
    {
     "data": {
      "text/html": [
       "<style type=\"text/css\">\n",
       "</style>\n",
       "<table id=\"T_350d4\">\n",
       "  <thead>\n",
       "    <tr>\n",
       "      <th class=\"blank level0\" >&nbsp;</th>\n",
       "      <th id=\"T_350d4_level0_col0\" class=\"col_heading level0 col0\" >Model</th>\n",
       "      <th id=\"T_350d4_level0_col1\" class=\"col_heading level0 col1\" >Accuracy</th>\n",
       "      <th id=\"T_350d4_level0_col2\" class=\"col_heading level0 col2\" >AUC</th>\n",
       "      <th id=\"T_350d4_level0_col3\" class=\"col_heading level0 col3\" >Recall</th>\n",
       "      <th id=\"T_350d4_level0_col4\" class=\"col_heading level0 col4\" >Prec.</th>\n",
       "      <th id=\"T_350d4_level0_col5\" class=\"col_heading level0 col5\" >F1</th>\n",
       "      <th id=\"T_350d4_level0_col6\" class=\"col_heading level0 col6\" >Kappa</th>\n",
       "      <th id=\"T_350d4_level0_col7\" class=\"col_heading level0 col7\" >MCC</th>\n",
       "    </tr>\n",
       "  </thead>\n",
       "  <tbody>\n",
       "    <tr>\n",
       "      <th id=\"T_350d4_level0_row0\" class=\"row_heading level0 row0\" >0</th>\n",
       "      <td id=\"T_350d4_row0_col0\" class=\"data row0 col0\" >Decision Tree Classifier</td>\n",
       "      <td id=\"T_350d4_row0_col1\" class=\"data row0 col1\" >0.5368</td>\n",
       "      <td id=\"T_350d4_row0_col2\" class=\"data row0 col2\" >0.5167</td>\n",
       "      <td id=\"T_350d4_row0_col3\" class=\"data row0 col3\" >0.5792</td>\n",
       "      <td id=\"T_350d4_row0_col4\" class=\"data row0 col4\" >0.5133</td>\n",
       "      <td id=\"T_350d4_row0_col5\" class=\"data row0 col5\" >0.5443</td>\n",
       "      <td id=\"T_350d4_row0_col6\" class=\"data row0 col6\" >0.0769</td>\n",
       "      <td id=\"T_350d4_row0_col7\" class=\"data row0 col7\" >0.0775</td>\n",
       "    </tr>\n",
       "  </tbody>\n",
       "</table>\n"
      ],
      "text/plain": [
       "<pandas.io.formats.style.Styler at 0x17e09d77f70>"
      ]
     },
     "metadata": {},
     "output_type": "display_data"
    },
    {
     "data": {
      "text/html": [
       "<div>\n",
       "<style scoped>\n",
       "    .dataframe tbody tr th:only-of-type {\n",
       "        vertical-align: middle;\n",
       "    }\n",
       "\n",
       "    .dataframe tbody tr th {\n",
       "        vertical-align: top;\n",
       "    }\n",
       "\n",
       "    .dataframe thead th {\n",
       "        text-align: right;\n",
       "    }\n",
       "</style>\n",
       "<table border=\"1\" class=\"dataframe\">\n",
       "  <thead>\n",
       "    <tr style=\"text-align: right;\">\n",
       "      <th></th>\n",
       "      <th>lat</th>\n",
       "      <th>lon</th>\n",
       "      <th>minutes_remaining</th>\n",
       "      <th>period</th>\n",
       "      <th>playoffs</th>\n",
       "      <th>shot_distance</th>\n",
       "      <th>prediction_label</th>\n",
       "      <th>prediction_score</th>\n",
       "    </tr>\n",
       "  </thead>\n",
       "  <tbody>\n",
       "    <tr>\n",
       "      <th>25685</th>\n",
       "      <td>33.908298</td>\n",
       "      <td>-118.365799</td>\n",
       "      <td>9</td>\n",
       "      <td>1</td>\n",
       "      <td>0</td>\n",
       "      <td>1.0</td>\n",
       "      <td>0</td>\n",
       "      <td>1.0000</td>\n",
       "    </tr>\n",
       "    <tr>\n",
       "      <th>6396</th>\n",
       "      <td>33.847301</td>\n",
       "      <td>-118.328796</td>\n",
       "      <td>9</td>\n",
       "      <td>3</td>\n",
       "      <td>0</td>\n",
       "      <td>0.0</td>\n",
       "      <td>1</td>\n",
       "      <td>1.0000</td>\n",
       "    </tr>\n",
       "    <tr>\n",
       "      <th>4791</th>\n",
       "      <td>34.024300</td>\n",
       "      <td>-118.156799</td>\n",
       "      <td>6</td>\n",
       "      <td>4</td>\n",
       "      <td>0</td>\n",
       "      <td>0.0</td>\n",
       "      <td>0</td>\n",
       "      <td>1.0000</td>\n",
       "    </tr>\n",
       "    <tr>\n",
       "      <th>18758</th>\n",
       "      <td>34.035301</td>\n",
       "      <td>-118.254799</td>\n",
       "      <td>7</td>\n",
       "      <td>3</td>\n",
       "      <td>0</td>\n",
       "      <td>1.0</td>\n",
       "      <td>1</td>\n",
       "      <td>1.0000</td>\n",
       "    </tr>\n",
       "    <tr>\n",
       "      <th>99</th>\n",
       "      <td>34.035301</td>\n",
       "      <td>-118.230797</td>\n",
       "      <td>11</td>\n",
       "      <td>3</td>\n",
       "      <td>0</td>\n",
       "      <td>0.0</td>\n",
       "      <td>0</td>\n",
       "      <td>1.0000</td>\n",
       "    </tr>\n",
       "    <tr>\n",
       "      <th>...</th>\n",
       "      <td>...</td>\n",
       "      <td>...</td>\n",
       "      <td>...</td>\n",
       "      <td>...</td>\n",
       "      <td>...</td>\n",
       "      <td>...</td>\n",
       "      <td>...</td>\n",
       "      <td>...</td>\n",
       "    </tr>\n",
       "    <tr>\n",
       "      <th>8451</th>\n",
       "      <td>34.044300</td>\n",
       "      <td>-118.152802</td>\n",
       "      <td>4</td>\n",
       "      <td>1</td>\n",
       "      <td>0</td>\n",
       "      <td>1.0</td>\n",
       "      <td>1</td>\n",
       "      <td>1.0000</td>\n",
       "    </tr>\n",
       "    <tr>\n",
       "      <th>3094</th>\n",
       "      <td>34.044300</td>\n",
       "      <td>-118.269798</td>\n",
       "      <td>4</td>\n",
       "      <td>1</td>\n",
       "      <td>0</td>\n",
       "      <td>1.0</td>\n",
       "      <td>1</td>\n",
       "      <td>0.6667</td>\n",
       "    </tr>\n",
       "    <tr>\n",
       "      <th>30343</th>\n",
       "      <td>33.940300</td>\n",
       "      <td>-118.268799</td>\n",
       "      <td>9</td>\n",
       "      <td>4</td>\n",
       "      <td>1</td>\n",
       "      <td>1.0</td>\n",
       "      <td>1</td>\n",
       "      <td>1.0000</td>\n",
       "    </tr>\n",
       "    <tr>\n",
       "      <th>2340</th>\n",
       "      <td>34.029301</td>\n",
       "      <td>-118.401802</td>\n",
       "      <td>8</td>\n",
       "      <td>3</td>\n",
       "      <td>0</td>\n",
       "      <td>0.0</td>\n",
       "      <td>0</td>\n",
       "      <td>1.0000</td>\n",
       "    </tr>\n",
       "    <tr>\n",
       "      <th>16253</th>\n",
       "      <td>33.885300</td>\n",
       "      <td>-118.397797</td>\n",
       "      <td>9</td>\n",
       "      <td>4</td>\n",
       "      <td>0</td>\n",
       "      <td>1.0</td>\n",
       "      <td>0</td>\n",
       "      <td>1.0000</td>\n",
       "    </tr>\n",
       "  </tbody>\n",
       "</table>\n",
       "<p>4057 rows × 8 columns</p>\n",
       "</div>"
      ],
      "text/plain": [
       "             lat         lon  minutes_remaining  period  playoffs  \\\n",
       "25685  33.908298 -118.365799                  9       1         0   \n",
       "6396   33.847301 -118.328796                  9       3         0   \n",
       "4791   34.024300 -118.156799                  6       4         0   \n",
       "18758  34.035301 -118.254799                  7       3         0   \n",
       "99     34.035301 -118.230797                 11       3         0   \n",
       "...          ...         ...                ...     ...       ...   \n",
       "8451   34.044300 -118.152802                  4       1         0   \n",
       "3094   34.044300 -118.269798                  4       1         0   \n",
       "30343  33.940300 -118.268799                  9       4         1   \n",
       "2340   34.029301 -118.401802                  8       3         0   \n",
       "16253  33.885300 -118.397797                  9       4         0   \n",
       "\n",
       "       shot_distance  prediction_label  prediction_score  \n",
       "25685            1.0                 0            1.0000  \n",
       "6396             0.0                 1            1.0000  \n",
       "4791             0.0                 0            1.0000  \n",
       "18758            1.0                 1            1.0000  \n",
       "99               0.0                 0            1.0000  \n",
       "...              ...               ...               ...  \n",
       "8451             1.0                 1            1.0000  \n",
       "3094             1.0                 1            0.6667  \n",
       "30343            1.0                 1            1.0000  \n",
       "2340             0.0                 0            1.0000  \n",
       "16253            1.0                 0            1.0000  \n",
       "\n",
       "[4057 rows x 8 columns]"
      ]
     },
     "execution_count": 175,
     "metadata": {},
     "output_type": "execute_result"
    }
   ],
   "source": [
    "import os\n",
    "from sklearn.metrics import log_loss,f1_score\n",
    "\n",
    "yhat_test=exp.predict_model(list_models[0])\n",
    "\n",
    " mlflow.log_metrics({\n",
    "     'lr_log_loss':log_loss(yhat_test.xtest, yhat_test.prediction_label),\n",
    "     'lr_f1':log_loss(yhat_test.xtest, yhat_test.prediction_label),\n",
    " })"
   ]
  },
  {
   "cell_type": "code",
   "execution_count": null,
   "id": "42efef7a-a944-4e11-939d-ff3ff5eeb05f",
   "metadata": {},
   "outputs": [],
   "source": []
  }
 ],
 "metadata": {
  "kernelspec": {
   "display_name": "Python 3 (ipykernel)",
   "language": "python",
   "name": "python3"
  },
  "language_info": {
   "codemirror_mode": {
    "name": "ipython",
    "version": 3
   },
   "file_extension": ".py",
   "mimetype": "text/x-python",
   "name": "python",
   "nbconvert_exporter": "python",
   "pygments_lexer": "ipython3",
   "version": "3.10.14"
  },
  "widgets": {
   "application/vnd.jupyter.widget-state+json": {
    "state": {
     "107c8e1c6efd4278a2744c290e1c9066": {
      "model_module": "@jupyter-widgets/controls",
      "model_module_version": "2.0.0",
      "model_name": "HTMLModel",
      "state": {
       "layout": "IPY_MODEL_74ea35930803449a8887f2f25a358843",
       "style": "IPY_MODEL_d110ba825ff14443ad740b7a96878087",
       "value": "Processing: 100%"
      }
     },
     "22dca370bdd04e5baaf93230611fbf21": {
      "model_module": "@jupyter-widgets/base",
      "model_module_version": "2.0.0",
      "model_name": "LayoutModel",
      "state": {
       "visibility": "hidden"
      }
     },
     "29ae1c8e076d4888bc2d818255730a9e": {
      "model_module": "@jupyter-widgets/controls",
      "model_module_version": "2.0.0",
      "model_name": "HTMLModel",
      "state": {
       "layout": "IPY_MODEL_2b4a706a27dd415683b0a20c94dd7018",
       "style": "IPY_MODEL_65917f2e77424f808b118c09e0417f6a",
       "value": "Processing: 100%"
      }
     },
     "2b4a706a27dd415683b0a20c94dd7018": {
      "model_module": "@jupyter-widgets/base",
      "model_module_version": "2.0.0",
      "model_name": "LayoutModel",
      "state": {}
     },
     "32c167000a0d4f669dc4d2c3244de29d": {
      "model_module": "@jupyter-widgets/base",
      "model_module_version": "2.0.0",
      "model_name": "LayoutModel",
      "state": {}
     },
     "34c240c944d248f5bd02a4270428f745": {
      "model_module": "@jupyter-widgets/controls",
      "model_module_version": "2.0.0",
      "model_name": "HTMLStyleModel",
      "state": {
       "description_width": "",
       "font_size": null,
       "text_color": null
      }
     },
     "3f12d63a793646cc843dddff8731d4b8": {
      "model_module": "@jupyter-widgets/controls",
      "model_module_version": "2.0.0",
      "model_name": "HTMLStyleModel",
      "state": {
       "description_width": "",
       "font_size": null,
       "text_color": null
      }
     },
     "4720010de98b442591f35440b1d1a507": {
      "model_module": "@jupyter-widgets/controls",
      "model_module_version": "2.0.0",
      "model_name": "FloatProgressModel",
      "state": {
       "layout": "IPY_MODEL_f6035b3c3dd3446db2f8d1ba4891516d",
       "max": 14,
       "style": "IPY_MODEL_f065153214ff4e839dd7124130c3c8d3",
       "value": 14
      }
     },
     "65917f2e77424f808b118c09e0417f6a": {
      "model_module": "@jupyter-widgets/controls",
      "model_module_version": "2.0.0",
      "model_name": "HTMLStyleModel",
      "state": {
       "description_width": "",
       "font_size": null,
       "text_color": null
      }
     },
     "66495de955704b0682c53527604f17ce": {
      "model_module": "@jupyter-widgets/controls",
      "model_module_version": "2.0.0",
      "model_name": "HTMLModel",
      "state": {
       "layout": "IPY_MODEL_d33f2f39b4664108814212de5c4175f6",
       "style": "IPY_MODEL_34c240c944d248f5bd02a4270428f745",
       "value": " 14/14 [00:07&lt;00:00,  2.88it/s]"
      }
     },
     "74ea35930803449a8887f2f25a358843": {
      "model_module": "@jupyter-widgets/base",
      "model_module_version": "2.0.0",
      "model_name": "LayoutModel",
      "state": {}
     },
     "75cd231a5e7241b288eee0ffc9e992f1": {
      "model_module": "@jupyter-widgets/controls",
      "model_module_version": "2.0.0",
      "model_name": "HTMLModel",
      "state": {
       "layout": "IPY_MODEL_32c167000a0d4f669dc4d2c3244de29d",
       "style": "IPY_MODEL_3f12d63a793646cc843dddff8731d4b8",
       "value": " 14/14 [00:09&lt;00:00,  2.55it/s]"
      }
     },
     "7a2898d91967471e9d95cfd9d5f0b873": {
      "model_module": "@jupyter-widgets/controls",
      "model_module_version": "2.0.0",
      "model_name": "ProgressStyleModel",
      "state": {
       "description_width": ""
      }
     },
     "826659aaeb74458fb88188fdbf3dfc51": {
      "model_module": "@jupyter-widgets/controls",
      "model_module_version": "2.0.0",
      "model_name": "FloatProgressModel",
      "state": {
       "layout": "IPY_MODEL_855b4bed21f2427d9db8baa6aa75d5c9",
       "max": 14,
       "style": "IPY_MODEL_7a2898d91967471e9d95cfd9d5f0b873",
       "value": 14
      }
     },
     "855b4bed21f2427d9db8baa6aa75d5c9": {
      "model_module": "@jupyter-widgets/base",
      "model_module_version": "2.0.0",
      "model_name": "LayoutModel",
      "state": {}
     },
     "d110ba825ff14443ad740b7a96878087": {
      "model_module": "@jupyter-widgets/controls",
      "model_module_version": "2.0.0",
      "model_name": "HTMLStyleModel",
      "state": {
       "description_width": "",
       "font_size": null,
       "text_color": null
      }
     },
     "d33f2f39b4664108814212de5c4175f6": {
      "model_module": "@jupyter-widgets/base",
      "model_module_version": "2.0.0",
      "model_name": "LayoutModel",
      "state": {}
     },
     "d9ac9c2bf36e4f57848c047114340207": {
      "model_module": "@jupyter-widgets/base",
      "model_module_version": "2.0.0",
      "model_name": "LayoutModel",
      "state": {
       "visibility": "hidden"
      }
     },
     "f065153214ff4e839dd7124130c3c8d3": {
      "model_module": "@jupyter-widgets/controls",
      "model_module_version": "2.0.0",
      "model_name": "ProgressStyleModel",
      "state": {
       "description_width": ""
      }
     },
     "f6035b3c3dd3446db2f8d1ba4891516d": {
      "model_module": "@jupyter-widgets/base",
      "model_module_version": "2.0.0",
      "model_name": "LayoutModel",
      "state": {}
     }
    },
    "version_major": 2,
    "version_minor": 0
   }
  }
 },
 "nbformat": 4,
 "nbformat_minor": 5
}
